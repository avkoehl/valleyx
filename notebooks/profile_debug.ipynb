{
 "cells": [
  {
   "cell_type": "code",
   "execution_count": 6,
   "id": "318033d4-d2c2-4b3e-947d-2b046371c56c",
   "metadata": {},
   "outputs": [],
   "source": [
    "import toml\n",
    "import matplotlib.pyplot as plt\n",
    "import xarray as xr\n",
    "import geopandas as gpd\n",
    "import numpy as np\n",
    "from loguru import logger\n",
    "\n",
    "from slopes.__main__ import main\n",
    "from slopes.__main__ import setup_wbt\n",
    "from slopes.__main__ import load_input\n",
    "from slopes.__main__ import process_topography, delineate_reaches, smooth_flowlines, compute_profiles\n",
    "from slopes.raster.raster_utils import finite_unique\n",
    "\n",
    "logger.enable('slopes')"
   ]
  },
  {
   "cell_type": "code",
   "execution_count": 7,
   "id": "78b3e345-a157-46f7-8bce-838eebf462df",
   "metadata": {},
   "outputs": [],
   "source": [
    "params = toml.load(\"../sample_params/params_10m.toml\")\n",
    "wbt = setup_wbt(\"../working_dir/\")"
   ]
  },
  {
   "cell_type": "code",
   "execution_count": 8,
   "id": "ade7fc02-7bd6-41bc-b62c-c92d9d63dcd6",
   "metadata": {},
   "outputs": [],
   "source": [
    "dem, flowlines = load_input(\"../data/test_sites_10m/1801010701-dem.tif\", \"../data/test_sites_10m/1801010701-flowlines.shp\")"
   ]
  },
  {
   "cell_type": "code",
   "execution_count": 9,
   "id": "c8773a92-918a-41a0-ad8a-0f8ffa3f1872",
   "metadata": {},
   "outputs": [],
   "source": [
    "dataset, aligned_flowlines = process_topography(dem, flowlines, wbt, params['sigma'])"
   ]
  },
  {
   "cell_type": "code",
   "execution_count": 10,
   "id": "8a1a63f9-992a-4227-bbe2-6bbcbbd1d593",
   "metadata": {},
   "outputs": [
    {
     "name": "stderr",
     "output_type": "stream",
     "text": [
      "\u001b[32m2024-11-11 13:12:20.398\u001b[0m | \u001b[1mINFO    \u001b[0m | \u001b[36mslopes.reach.reaches\u001b[0m:\u001b[36mdelineate_reaches\u001b[0m:\u001b[36m26\u001b[0m - \u001b[1mRough out valley floors\u001b[0m\n",
      "\u001b[32m2024-11-11 13:12:21.655\u001b[0m | \u001b[1mINFO    \u001b[0m | \u001b[36mslopes.reach.reaches\u001b[0m:\u001b[36mdelineate_reaches\u001b[0m:\u001b[36m28\u001b[0m - \u001b[1mSegment into reaches\u001b[0m\n",
      "\u001b[32m2024-11-11 13:12:21.656\u001b[0m | \u001b[1mINFO    \u001b[0m | \u001b[36mslopes.reach.reaches\u001b[0m:\u001b[36mreach_subbasins\u001b[0m:\u001b[36m39\u001b[0m - \u001b[1mget points that represent the breaks\u001b[0m\n",
      "\u001b[32m2024-11-11 13:12:21.657\u001b[0m | \u001b[1mINFO    \u001b[0m | \u001b[36mslopes.reach.reaches\u001b[0m:\u001b[36m_compute_reaches\u001b[0m:\u001b[36m68\u001b[0m - \u001b[1mSplitting 1.0 into reaches, 1/71 1.41%\u001b[0m\n",
      "\u001b[32m2024-11-11 13:12:22.488\u001b[0m | \u001b[1mINFO    \u001b[0m | \u001b[36mslopes.reach.reaches\u001b[0m:\u001b[36m_compute_reaches\u001b[0m:\u001b[36m68\u001b[0m - \u001b[1mSplitting 2.0 into reaches, 2/71 2.82%\u001b[0m\n",
      "\u001b[32m2024-11-11 13:12:23.054\u001b[0m | \u001b[1mINFO    \u001b[0m | \u001b[36mslopes.reach.reaches\u001b[0m:\u001b[36m_compute_reaches\u001b[0m:\u001b[36m68\u001b[0m - \u001b[1mSplitting 3.0 into reaches, 3/71 4.23%\u001b[0m\n",
      "\u001b[32m2024-11-11 13:12:24.030\u001b[0m | \u001b[1mINFO    \u001b[0m | \u001b[36mslopes.reach.reaches\u001b[0m:\u001b[36m_compute_reaches\u001b[0m:\u001b[36m68\u001b[0m - \u001b[1mSplitting 4.0 into reaches, 4/71 5.63%\u001b[0m\n",
      "\u001b[32m2024-11-11 13:12:24.544\u001b[0m | \u001b[1mINFO    \u001b[0m | \u001b[36mslopes.reach.reaches\u001b[0m:\u001b[36m_compute_reaches\u001b[0m:\u001b[36m68\u001b[0m - \u001b[1mSplitting 5.0 into reaches, 5/71 7.04%\u001b[0m\n",
      "\u001b[32m2024-11-11 13:12:24.887\u001b[0m | \u001b[1mINFO    \u001b[0m | \u001b[36mslopes.reach.reaches\u001b[0m:\u001b[36m_compute_reaches\u001b[0m:\u001b[36m68\u001b[0m - \u001b[1mSplitting 6.0 into reaches, 6/71 8.45%\u001b[0m\n",
      "\u001b[32m2024-11-11 13:12:25.370\u001b[0m | \u001b[1mINFO    \u001b[0m | \u001b[36mslopes.reach.reaches\u001b[0m:\u001b[36m_compute_reaches\u001b[0m:\u001b[36m68\u001b[0m - \u001b[1mSplitting 7.0 into reaches, 7/71 9.86%\u001b[0m\n",
      "\u001b[32m2024-11-11 13:12:26.052\u001b[0m | \u001b[1mINFO    \u001b[0m | \u001b[36mslopes.reach.reaches\u001b[0m:\u001b[36m_compute_reaches\u001b[0m:\u001b[36m68\u001b[0m - \u001b[1mSplitting 8.0 into reaches, 8/71 11.27%\u001b[0m\n",
      "\u001b[32m2024-11-11 13:12:26.752\u001b[0m | \u001b[1mINFO    \u001b[0m | \u001b[36mslopes.reach.reaches\u001b[0m:\u001b[36m_compute_reaches\u001b[0m:\u001b[36m68\u001b[0m - \u001b[1mSplitting 9.0 into reaches, 9/71 12.68%\u001b[0m\n",
      "\u001b[32m2024-11-11 13:12:27.133\u001b[0m | \u001b[1mINFO    \u001b[0m | \u001b[36mslopes.reach.reaches\u001b[0m:\u001b[36m_compute_reaches\u001b[0m:\u001b[36m68\u001b[0m - \u001b[1mSplitting 10.0 into reaches, 10/71 14.08%\u001b[0m\n",
      "\u001b[32m2024-11-11 13:12:27.471\u001b[0m | \u001b[1mINFO    \u001b[0m | \u001b[36mslopes.reach.reaches\u001b[0m:\u001b[36m_compute_reaches\u001b[0m:\u001b[36m68\u001b[0m - \u001b[1mSplitting 11.0 into reaches, 11/71 15.49%\u001b[0m\n",
      "\u001b[32m2024-11-11 13:12:27.856\u001b[0m | \u001b[1mINFO    \u001b[0m | \u001b[36mslopes.reach.reaches\u001b[0m:\u001b[36m_compute_reaches\u001b[0m:\u001b[36m68\u001b[0m - \u001b[1mSplitting 12.0 into reaches, 12/71 16.9%\u001b[0m\n",
      "\u001b[32m2024-11-11 13:12:28.281\u001b[0m | \u001b[1mINFO    \u001b[0m | \u001b[36mslopes.reach.reaches\u001b[0m:\u001b[36m_compute_reaches\u001b[0m:\u001b[36m68\u001b[0m - \u001b[1mSplitting 13.0 into reaches, 13/71 18.31%\u001b[0m\n",
      "\u001b[32m2024-11-11 13:12:28.692\u001b[0m | \u001b[1mINFO    \u001b[0m | \u001b[36mslopes.reach.reaches\u001b[0m:\u001b[36m_compute_reaches\u001b[0m:\u001b[36m68\u001b[0m - \u001b[1mSplitting 14.0 into reaches, 14/71 19.72%\u001b[0m\n",
      "\u001b[32m2024-11-11 13:12:29.085\u001b[0m | \u001b[1mINFO    \u001b[0m | \u001b[36mslopes.reach.reaches\u001b[0m:\u001b[36m_compute_reaches\u001b[0m:\u001b[36m68\u001b[0m - \u001b[1mSplitting 15.0 into reaches, 15/71 21.13%\u001b[0m\n",
      "\u001b[32m2024-11-11 13:12:29.502\u001b[0m | \u001b[1mINFO    \u001b[0m | \u001b[36mslopes.reach.reaches\u001b[0m:\u001b[36m_compute_reaches\u001b[0m:\u001b[36m68\u001b[0m - \u001b[1mSplitting 16.0 into reaches, 16/71 22.54%\u001b[0m\n",
      "\u001b[32m2024-11-11 13:12:29.768\u001b[0m | \u001b[1mINFO    \u001b[0m | \u001b[36mslopes.reach.reaches\u001b[0m:\u001b[36m_compute_reaches\u001b[0m:\u001b[36m68\u001b[0m - \u001b[1mSplitting 17.0 into reaches, 17/71 23.94%\u001b[0m\n",
      "\u001b[32m2024-11-11 13:12:30.087\u001b[0m | \u001b[1mINFO    \u001b[0m | \u001b[36mslopes.reach.reaches\u001b[0m:\u001b[36m_compute_reaches\u001b[0m:\u001b[36m68\u001b[0m - \u001b[1mSplitting 18.0 into reaches, 18/71 25.35%\u001b[0m\n",
      "\u001b[32m2024-11-11 13:12:30.337\u001b[0m | \u001b[1mINFO    \u001b[0m | \u001b[36mslopes.reach.reaches\u001b[0m:\u001b[36m_compute_reaches\u001b[0m:\u001b[36m68\u001b[0m - \u001b[1mSplitting 19.0 into reaches, 19/71 26.76%\u001b[0m\n",
      "\u001b[32m2024-11-11 13:12:31.036\u001b[0m | \u001b[1mINFO    \u001b[0m | \u001b[36mslopes.reach.reaches\u001b[0m:\u001b[36m_compute_reaches\u001b[0m:\u001b[36m68\u001b[0m - \u001b[1mSplitting 20.0 into reaches, 20/71 28.17%\u001b[0m\n",
      "\u001b[32m2024-11-11 13:12:31.378\u001b[0m | \u001b[1mINFO    \u001b[0m | \u001b[36mslopes.reach.reaches\u001b[0m:\u001b[36m_compute_reaches\u001b[0m:\u001b[36m68\u001b[0m - \u001b[1mSplitting 21.0 into reaches, 21/71 29.58%\u001b[0m\n",
      "\u001b[32m2024-11-11 13:12:31.781\u001b[0m | \u001b[1mINFO    \u001b[0m | \u001b[36mslopes.reach.reaches\u001b[0m:\u001b[36m_compute_reaches\u001b[0m:\u001b[36m68\u001b[0m - \u001b[1mSplitting 22.0 into reaches, 22/71 30.99%\u001b[0m\n",
      "\u001b[32m2024-11-11 13:12:32.092\u001b[0m | \u001b[1mINFO    \u001b[0m | \u001b[36mslopes.reach.reaches\u001b[0m:\u001b[36m_compute_reaches\u001b[0m:\u001b[36m68\u001b[0m - \u001b[1mSplitting 23.0 into reaches, 23/71 32.39%\u001b[0m\n",
      "\u001b[32m2024-11-11 13:12:32.508\u001b[0m | \u001b[1mINFO    \u001b[0m | \u001b[36mslopes.reach.reaches\u001b[0m:\u001b[36m_compute_reaches\u001b[0m:\u001b[36m68\u001b[0m - \u001b[1mSplitting 24.0 into reaches, 24/71 33.8%\u001b[0m\n",
      "\u001b[32m2024-11-11 13:12:34.451\u001b[0m | \u001b[1mINFO    \u001b[0m | \u001b[36mslopes.reach.reaches\u001b[0m:\u001b[36m_compute_reaches\u001b[0m:\u001b[36m68\u001b[0m - \u001b[1mSplitting 25.0 into reaches, 25/71 35.21%\u001b[0m\n",
      "\u001b[32m2024-11-11 13:12:35.091\u001b[0m | \u001b[1mINFO    \u001b[0m | \u001b[36mslopes.reach.reaches\u001b[0m:\u001b[36m_compute_reaches\u001b[0m:\u001b[36m68\u001b[0m - \u001b[1mSplitting 26.0 into reaches, 26/71 36.62%\u001b[0m\n",
      "\u001b[32m2024-11-11 13:12:35.773\u001b[0m | \u001b[1mINFO    \u001b[0m | \u001b[36mslopes.reach.reaches\u001b[0m:\u001b[36m_compute_reaches\u001b[0m:\u001b[36m68\u001b[0m - \u001b[1mSplitting 27.0 into reaches, 27/71 38.03%\u001b[0m\n",
      "\u001b[32m2024-11-11 13:12:36.133\u001b[0m | \u001b[1mINFO    \u001b[0m | \u001b[36mslopes.reach.reaches\u001b[0m:\u001b[36m_compute_reaches\u001b[0m:\u001b[36m68\u001b[0m - \u001b[1mSplitting 28.0 into reaches, 28/71 39.44%\u001b[0m\n",
      "\u001b[32m2024-11-11 13:12:36.658\u001b[0m | \u001b[1mINFO    \u001b[0m | \u001b[36mslopes.reach.reaches\u001b[0m:\u001b[36m_compute_reaches\u001b[0m:\u001b[36m68\u001b[0m - \u001b[1mSplitting 29.0 into reaches, 29/71 40.85%\u001b[0m\n",
      "\u001b[32m2024-11-11 13:12:37.465\u001b[0m | \u001b[1mINFO    \u001b[0m | \u001b[36mslopes.reach.reaches\u001b[0m:\u001b[36m_compute_reaches\u001b[0m:\u001b[36m68\u001b[0m - \u001b[1mSplitting 30.0 into reaches, 30/71 42.25%\u001b[0m\n",
      "\u001b[32m2024-11-11 13:12:37.944\u001b[0m | \u001b[1mINFO    \u001b[0m | \u001b[36mslopes.reach.reaches\u001b[0m:\u001b[36m_compute_reaches\u001b[0m:\u001b[36m68\u001b[0m - \u001b[1mSplitting 31.0 into reaches, 31/71 43.66%\u001b[0m\n",
      "\u001b[32m2024-11-11 13:12:38.274\u001b[0m | \u001b[1mINFO    \u001b[0m | \u001b[36mslopes.reach.reaches\u001b[0m:\u001b[36m_compute_reaches\u001b[0m:\u001b[36m68\u001b[0m - \u001b[1mSplitting 32.0 into reaches, 32/71 45.07%\u001b[0m\n",
      "\u001b[32m2024-11-11 13:12:38.583\u001b[0m | \u001b[1mINFO    \u001b[0m | \u001b[36mslopes.reach.reaches\u001b[0m:\u001b[36m_compute_reaches\u001b[0m:\u001b[36m68\u001b[0m - \u001b[1mSplitting 33.0 into reaches, 33/71 46.48%\u001b[0m\n",
      "\u001b[32m2024-11-11 13:12:39.121\u001b[0m | \u001b[1mINFO    \u001b[0m | \u001b[36mslopes.reach.reaches\u001b[0m:\u001b[36m_compute_reaches\u001b[0m:\u001b[36m68\u001b[0m - \u001b[1mSplitting 34.0 into reaches, 34/71 47.89%\u001b[0m\n",
      "\u001b[32m2024-11-11 13:12:39.486\u001b[0m | \u001b[1mINFO    \u001b[0m | \u001b[36mslopes.reach.reaches\u001b[0m:\u001b[36m_compute_reaches\u001b[0m:\u001b[36m68\u001b[0m - \u001b[1mSplitting 35.0 into reaches, 35/71 49.3%\u001b[0m\n",
      "\u001b[32m2024-11-11 13:12:40.953\u001b[0m | \u001b[1mINFO    \u001b[0m | \u001b[36mslopes.reach.reaches\u001b[0m:\u001b[36m_compute_reaches\u001b[0m:\u001b[36m68\u001b[0m - \u001b[1mSplitting 36.0 into reaches, 36/71 50.7%\u001b[0m\n",
      "\u001b[32m2024-11-11 13:12:42.606\u001b[0m | \u001b[1mINFO    \u001b[0m | \u001b[36mslopes.reach.reaches\u001b[0m:\u001b[36m_compute_reaches\u001b[0m:\u001b[36m68\u001b[0m - \u001b[1mSplitting 38.0 into reaches, 37/71 52.11%\u001b[0m\n",
      "\u001b[32m2024-11-11 13:12:42.702\u001b[0m | \u001b[1mINFO    \u001b[0m | \u001b[36mslopes.reach.reaches\u001b[0m:\u001b[36m_compute_reaches\u001b[0m:\u001b[36m68\u001b[0m - \u001b[1mSplitting 39.0 into reaches, 38/71 53.52%\u001b[0m\n",
      "\u001b[32m2024-11-11 13:12:43.087\u001b[0m | \u001b[1mINFO    \u001b[0m | \u001b[36mslopes.reach.reaches\u001b[0m:\u001b[36m_compute_reaches\u001b[0m:\u001b[36m68\u001b[0m - \u001b[1mSplitting 40.0 into reaches, 39/71 54.93%\u001b[0m\n",
      "\u001b[32m2024-11-11 13:12:43.482\u001b[0m | \u001b[1mINFO    \u001b[0m | \u001b[36mslopes.reach.reaches\u001b[0m:\u001b[36m_compute_reaches\u001b[0m:\u001b[36m68\u001b[0m - \u001b[1mSplitting 41.0 into reaches, 40/71 56.34%\u001b[0m\n",
      "\u001b[32m2024-11-11 13:12:43.701\u001b[0m | \u001b[1mINFO    \u001b[0m | \u001b[36mslopes.reach.reaches\u001b[0m:\u001b[36m_compute_reaches\u001b[0m:\u001b[36m68\u001b[0m - \u001b[1mSplitting 42.0 into reaches, 41/71 57.75%\u001b[0m\n",
      "\u001b[32m2024-11-11 13:12:43.925\u001b[0m | \u001b[1mINFO    \u001b[0m | \u001b[36mslopes.reach.reaches\u001b[0m:\u001b[36m_compute_reaches\u001b[0m:\u001b[36m68\u001b[0m - \u001b[1mSplitting 43.0 into reaches, 42/71 59.15%\u001b[0m\n",
      "\u001b[32m2024-11-11 13:12:44.179\u001b[0m | \u001b[1mINFO    \u001b[0m | \u001b[36mslopes.reach.reaches\u001b[0m:\u001b[36m_compute_reaches\u001b[0m:\u001b[36m68\u001b[0m - \u001b[1mSplitting 44.0 into reaches, 43/71 60.56%\u001b[0m\n",
      "\u001b[32m2024-11-11 13:12:44.365\u001b[0m | \u001b[1mINFO    \u001b[0m | \u001b[36mslopes.reach.reaches\u001b[0m:\u001b[36m_compute_reaches\u001b[0m:\u001b[36m68\u001b[0m - \u001b[1mSplitting 45.0 into reaches, 44/71 61.97%\u001b[0m\n",
      "\u001b[32m2024-11-11 13:12:44.676\u001b[0m | \u001b[1mINFO    \u001b[0m | \u001b[36mslopes.reach.reaches\u001b[0m:\u001b[36m_compute_reaches\u001b[0m:\u001b[36m68\u001b[0m - \u001b[1mSplitting 46.0 into reaches, 45/71 63.38%\u001b[0m\n",
      "\u001b[32m2024-11-11 13:12:44.844\u001b[0m | \u001b[1mINFO    \u001b[0m | \u001b[36mslopes.reach.reaches\u001b[0m:\u001b[36m_compute_reaches\u001b[0m:\u001b[36m68\u001b[0m - \u001b[1mSplitting 47.0 into reaches, 46/71 64.79%\u001b[0m\n",
      "\u001b[32m2024-11-11 13:12:45.088\u001b[0m | \u001b[1mINFO    \u001b[0m | \u001b[36mslopes.reach.reaches\u001b[0m:\u001b[36m_compute_reaches\u001b[0m:\u001b[36m68\u001b[0m - \u001b[1mSplitting 48.0 into reaches, 47/71 66.2%\u001b[0m\n",
      "\u001b[32m2024-11-11 13:12:45.266\u001b[0m | \u001b[1mINFO    \u001b[0m | \u001b[36mslopes.reach.reaches\u001b[0m:\u001b[36m_compute_reaches\u001b[0m:\u001b[36m68\u001b[0m - \u001b[1mSplitting 49.0 into reaches, 48/71 67.61%\u001b[0m\n",
      "\u001b[32m2024-11-11 13:12:45.423\u001b[0m | \u001b[1mINFO    \u001b[0m | \u001b[36mslopes.reach.reaches\u001b[0m:\u001b[36m_compute_reaches\u001b[0m:\u001b[36m68\u001b[0m - \u001b[1mSplitting 50.0 into reaches, 49/71 69.01%\u001b[0m\n",
      "\u001b[32m2024-11-11 13:12:45.758\u001b[0m | \u001b[1mINFO    \u001b[0m | \u001b[36mslopes.reach.reaches\u001b[0m:\u001b[36m_compute_reaches\u001b[0m:\u001b[36m68\u001b[0m - \u001b[1mSplitting 51.0 into reaches, 50/71 70.42%\u001b[0m\n",
      "\u001b[32m2024-11-11 13:12:46.316\u001b[0m | \u001b[1mINFO    \u001b[0m | \u001b[36mslopes.reach.reaches\u001b[0m:\u001b[36m_compute_reaches\u001b[0m:\u001b[36m68\u001b[0m - \u001b[1mSplitting 52.0 into reaches, 51/71 71.83%\u001b[0m\n",
      "\u001b[32m2024-11-11 13:12:46.714\u001b[0m | \u001b[1mINFO    \u001b[0m | \u001b[36mslopes.reach.reaches\u001b[0m:\u001b[36m_compute_reaches\u001b[0m:\u001b[36m68\u001b[0m - \u001b[1mSplitting 53.0 into reaches, 52/71 73.24%\u001b[0m\n",
      "\u001b[32m2024-11-11 13:12:46.894\u001b[0m | \u001b[1mINFO    \u001b[0m | \u001b[36mslopes.reach.reaches\u001b[0m:\u001b[36m_compute_reaches\u001b[0m:\u001b[36m68\u001b[0m - \u001b[1mSplitting 54.0 into reaches, 53/71 74.65%\u001b[0m\n",
      "\u001b[32m2024-11-11 13:12:47.482\u001b[0m | \u001b[1mINFO    \u001b[0m | \u001b[36mslopes.reach.reaches\u001b[0m:\u001b[36m_compute_reaches\u001b[0m:\u001b[36m68\u001b[0m - \u001b[1mSplitting 55.0 into reaches, 54/71 76.06%\u001b[0m\n",
      "\u001b[32m2024-11-11 13:12:47.736\u001b[0m | \u001b[1mINFO    \u001b[0m | \u001b[36mslopes.reach.reaches\u001b[0m:\u001b[36m_compute_reaches\u001b[0m:\u001b[36m68\u001b[0m - \u001b[1mSplitting 56.0 into reaches, 55/71 77.46%\u001b[0m\n",
      "\u001b[32m2024-11-11 13:12:47.948\u001b[0m | \u001b[1mINFO    \u001b[0m | \u001b[36mslopes.reach.reaches\u001b[0m:\u001b[36m_compute_reaches\u001b[0m:\u001b[36m68\u001b[0m - \u001b[1mSplitting 57.0 into reaches, 56/71 78.87%\u001b[0m\n",
      "\u001b[32m2024-11-11 13:12:48.197\u001b[0m | \u001b[1mINFO    \u001b[0m | \u001b[36mslopes.reach.reaches\u001b[0m:\u001b[36m_compute_reaches\u001b[0m:\u001b[36m68\u001b[0m - \u001b[1mSplitting 58.0 into reaches, 57/71 80.28%\u001b[0m\n",
      "\u001b[32m2024-11-11 13:12:48.631\u001b[0m | \u001b[1mINFO    \u001b[0m | \u001b[36mslopes.reach.reaches\u001b[0m:\u001b[36m_compute_reaches\u001b[0m:\u001b[36m68\u001b[0m - \u001b[1mSplitting 59.0 into reaches, 58/71 81.69%\u001b[0m\n",
      "\u001b[32m2024-11-11 13:12:48.824\u001b[0m | \u001b[1mINFO    \u001b[0m | \u001b[36mslopes.reach.reaches\u001b[0m:\u001b[36m_compute_reaches\u001b[0m:\u001b[36m68\u001b[0m - \u001b[1mSplitting 60.0 into reaches, 59/71 83.1%\u001b[0m\n",
      "\u001b[32m2024-11-11 13:12:48.919\u001b[0m | \u001b[1mINFO    \u001b[0m | \u001b[36mslopes.reach.reaches\u001b[0m:\u001b[36m_compute_reaches\u001b[0m:\u001b[36m68\u001b[0m - \u001b[1mSplitting 61.0 into reaches, 60/71 84.51%\u001b[0m\n",
      "\u001b[32m2024-11-11 13:12:49.168\u001b[0m | \u001b[1mINFO    \u001b[0m | \u001b[36mslopes.reach.reaches\u001b[0m:\u001b[36m_compute_reaches\u001b[0m:\u001b[36m68\u001b[0m - \u001b[1mSplitting 62.0 into reaches, 61/71 85.92%\u001b[0m\n",
      "\u001b[32m2024-11-11 13:12:49.526\u001b[0m | \u001b[1mINFO    \u001b[0m | \u001b[36mslopes.reach.reaches\u001b[0m:\u001b[36m_compute_reaches\u001b[0m:\u001b[36m68\u001b[0m - \u001b[1mSplitting 63.0 into reaches, 62/71 87.32%\u001b[0m\n",
      "\u001b[32m2024-11-11 13:12:49.674\u001b[0m | \u001b[1mINFO    \u001b[0m | \u001b[36mslopes.reach.reaches\u001b[0m:\u001b[36m_compute_reaches\u001b[0m:\u001b[36m68\u001b[0m - \u001b[1mSplitting 64.0 into reaches, 63/71 88.73%\u001b[0m\n",
      "\u001b[32m2024-11-11 13:12:49.971\u001b[0m | \u001b[1mINFO    \u001b[0m | \u001b[36mslopes.reach.reaches\u001b[0m:\u001b[36m_compute_reaches\u001b[0m:\u001b[36m68\u001b[0m - \u001b[1mSplitting 65.0 into reaches, 64/71 90.14%\u001b[0m\n",
      "\u001b[32m2024-11-11 13:12:50.141\u001b[0m | \u001b[1mINFO    \u001b[0m | \u001b[36mslopes.reach.reaches\u001b[0m:\u001b[36m_compute_reaches\u001b[0m:\u001b[36m68\u001b[0m - \u001b[1mSplitting 66.0 into reaches, 65/71 91.55%\u001b[0m\n",
      "\u001b[32m2024-11-11 13:12:50.591\u001b[0m | \u001b[1mINFO    \u001b[0m | \u001b[36mslopes.reach.reaches\u001b[0m:\u001b[36m_compute_reaches\u001b[0m:\u001b[36m68\u001b[0m - \u001b[1mSplitting 67.0 into reaches, 66/71 92.96%\u001b[0m\n",
      "\u001b[32m2024-11-11 13:12:51.184\u001b[0m | \u001b[1mINFO    \u001b[0m | \u001b[36mslopes.reach.reaches\u001b[0m:\u001b[36m_compute_reaches\u001b[0m:\u001b[36m68\u001b[0m - \u001b[1mSplitting 68.0 into reaches, 67/71 94.37%\u001b[0m\n",
      "\u001b[32m2024-11-11 13:12:51.684\u001b[0m | \u001b[1mINFO    \u001b[0m | \u001b[36mslopes.reach.reaches\u001b[0m:\u001b[36m_compute_reaches\u001b[0m:\u001b[36m68\u001b[0m - \u001b[1mSplitting 69.0 into reaches, 68/71 95.77%\u001b[0m\n",
      "\u001b[32m2024-11-11 13:12:52.133\u001b[0m | \u001b[1mINFO    \u001b[0m | \u001b[36mslopes.reach.reaches\u001b[0m:\u001b[36m_compute_reaches\u001b[0m:\u001b[36m68\u001b[0m - \u001b[1mSplitting 70.0 into reaches, 69/71 97.18%\u001b[0m\n",
      "\u001b[32m2024-11-11 13:12:52.443\u001b[0m | \u001b[1mINFO    \u001b[0m | \u001b[36mslopes.reach.reaches\u001b[0m:\u001b[36m_compute_reaches\u001b[0m:\u001b[36m68\u001b[0m - \u001b[1mSplitting 71.0 into reaches, 70/71 98.59%\u001b[0m\n",
      "\u001b[32m2024-11-11 13:12:52.962\u001b[0m | \u001b[1mINFO    \u001b[0m | \u001b[36mslopes.reach.reaches\u001b[0m:\u001b[36m_compute_reaches\u001b[0m:\u001b[36m68\u001b[0m - \u001b[1mSplitting 72.0 into reaches, 71/71 100.0%\u001b[0m\n",
      "\u001b[32m2024-11-11 13:12:53.097\u001b[0m | \u001b[1mINFO    \u001b[0m | \u001b[36mslopes.reach.reaches\u001b[0m:\u001b[36mreach_subbasins\u001b[0m:\u001b[36m41\u001b[0m - \u001b[1mrelabel things\u001b[0m\n",
      "\u001b[32m2024-11-11 13:12:53.345\u001b[0m | \u001b[1mINFO    \u001b[0m | \u001b[36mslopes.reach.reaches\u001b[0m:\u001b[36mreach_subbasins\u001b[0m:\u001b[36m51\u001b[0m - \u001b[1mcompute subbasins and hillslopes\u001b[0m\n"
     ]
    }
   ],
   "source": [
    "dataset, flowlines_reaches = delineate_reaches(\n",
    "    dataset, aligned_flowlines, wbt, params['num_points'], params['spacing'], params['minsize'], params['window']\n",
    ")"
   ]
  },
  {
   "cell_type": "code",
   "execution_count": 11,
   "id": "7e0b5ad3-d322-4b47-aabe-e1e55f93abde",
   "metadata": {},
   "outputs": [],
   "source": [
    "flowlines = smooth_flowlines(flowlines_reaches)"
   ]
  },
  {
   "cell_type": "code",
   "execution_count": 12,
   "id": "8b85cf9c-9843-4b6e-8bd4-6693e49f2335",
   "metadata": {
    "scrolled": true
   },
   "outputs": [],
   "source": [
    "profiles = compute_profiles(flowlines, dataset, params['line_spacing'], params['line_width'], \n",
    "                            params['point_spacing'], dataset['subbasin'], params['min_hand_jump'], params['ratio'], params['min_distance'])"
   ]
  },
  {
   "cell_type": "code",
   "execution_count": 33,
   "id": "3c061cb3-6ab7-4a7a-86fa-ebb1897b5a09",
   "metadata": {},
   "outputs": [],
   "source": [
    "profile = profiles.loc[(profiles['streamID'] == 6600) & (profiles['xsID'] == 225)]"
   ]
  },
  {
   "cell_type": "code",
   "execution_count": 48,
   "id": "a8ae3c15-a115-4457-8f99-a490c13dfd73",
   "metadata": {},
   "outputs": [
    {
     "data": {
      "text/plain": [
       "[<matplotlib.lines.Line2D at 0x153d35fc0>]"
      ]
     },
     "execution_count": 48,
     "metadata": {},
     "output_type": "execute_result"
    },
    {
     "data": {
      "image/png": "[encoded data removed]",
      "text/plain": [
       "<Figure size 640x480 with 1 Axes>"
      ]
     },
     "metadata": {},
     "output_type": "display_data"
    }
   ],
   "source": [
    "fig, ax = plt.subplots()\n",
    "ax.plot(profile['alpha'], profile['dem'])"
   ]
  },
  {
   "cell_type": "code",
   "execution_count": 36,
   "id": "0a1766b1-aafe-4c95-bca9-d0a132eafc05",
   "metadata": {},
   "outputs": [],
   "source": [
    "import pandas as pd\n",
    "import geopandas as gpd\n",
    "import numpy as np\n",
    "from scipy import signal\n",
    "from tqdm import tqdm\n",
    "\n",
    "from slopes.profile.split import split_profile\n",
    "\n",
    "def classify_profile_slope_threshold(profile, slope_threshold):\n",
    "    \"\"\"\n",
    "    Splits the cross section profile and finds the wallpoint for each side \n",
    "    \"\"\"\n",
    "    profile['wallpoint'] = False\n",
    "\n",
    "    pos, neg = split_profile(profile, duplicate_center=True)\n",
    "    pos_wall_loc = _find_wall_half(pos, slope_threshold)\n",
    "    neg_wall_loc = _find_wall_half(neg, slope_threshold)\n",
    "\n",
    "    if pos_wall_loc is not None:\n",
    "        profile.loc[pos_wall_loc, \"wallpoint\"] = True\n",
    "    if neg_wall_loc is not None:\n",
    "        profile.loc[neg_wall_loc, \"wallpoint\"] = True\n",
    "    return profile\n",
    "\n",
    "def _find_wall_half(half_profile, slope_threshold):\n",
    "    \"\"\"\n",
    "    returns wall point loc if any\n",
    "    \"\"\"\n",
    "    # add first and last point as bps\n",
    "    half_profile.loc[half_profile.index[0], 'bp'] = True # this is the stream\n",
    "    half_profile.loc[half_profile.index[-1], 'bp'] = True\n",
    "\n",
    "    positional_indices = np.where(half_profile['bp'])[0]\n",
    "\n",
    "    for i,position in enumerate(positional_indices):\n",
    "        if i == (len(positional_indices) - 1): # final index\n",
    "            break\n",
    "        \n",
    "        next_pos = positional_indices[i+1]\n",
    "        median_slope = half_profile['slope'].iloc[position: next_pos+1].median()\n",
    "\n",
    "        if median_slope > slope_threshold:\n",
    "            return half_profile.index[position]\n",
    "    return None"
   ]
  },
  {
   "cell_type": "code",
   "execution_count": 46,
   "id": "ec6a11b5-4dd8-433b-a671-5dfeaa8f64a7",
   "metadata": {},
   "outputs": [
    {
     "name": "stderr",
     "output_type": "stream",
     "text": [
      "100%|██████████████████████████████████████████████████████████████████████████████████████████████████| 8595/8595 [00:18<00:00, 469.35it/s]\n"
     ]
    }
   ],
   "source": [
    "processed_dfs = []\n",
    "for (streamID, xsID), profile in tqdm(profiles.groupby(['streamID', 'xsID'])):\n",
    "    classified = profile.copy()\n",
    "    classified['bp'] = False\n",
    "    peaks = signal.find_peaks(-classified['curvature'], height=0.)[0]\n",
    "    classified.loc[profile.index[peaks], 'bp'] = True\n",
    "\n",
    "    classified = classify_profile_slope_threshold(classified, 10)\n",
    "    processed_dfs.append(classified)\n",
    "\n",
    "processed_df = gpd.GeoDataFrame(pd.concat(processed_dfs, ignore_index=True))"
   ]
  },
  {
   "cell_type": "code",
   "execution_count": 47,
   "id": "4d745ed8-1e91-47e0-9a7d-46f7f752e0c2",
   "metadata": {},
   "outputs": [
    {
     "name": "stderr",
     "output_type": "stream",
     "text": [
      "/var/folders/n2/c76_7mv17f3fsmk9zkzn_k480000gn/T/ipykernel_3404/2379643442.py:1: UserWarning: Column names longer than 10 characters will be truncated when saved to ESRI Shapefile.\n",
      "  processed_df.to_file('process.shp')\n",
      "/Users/arthurkoehl/Library/Caches/pypoetry/virtualenvs/slopes-mqMb1mKH-py3.10/lib/python3.10/site-packages/pyogrio/raw.py:723: RuntimeWarning: Normalized/laundered field name: 'conditioned_dem' to 'conditione'\n",
      "  ogr_write(\n"
     ]
    }
   ],
   "source": [
    "processed_df.to_file('process.shp')"
   ]
  },
  {
   "cell_type": "code",
   "execution_count": null,
   "id": "4981ed3c-6ba7-4724-a920-653473836293",
   "metadata": {},
   "outputs": [],
   "source": []
  }
 ],
 "metadata": {
  "kernelspec": {
   "display_name": "slopes",
   "language": "python",
   "name": "slopes"
  },
  "language_info": {
   "codemirror_mode": {
    "name": "ipython",
    "version": 3
   },
   "file_extension": ".py",
   "mimetype": "text/x-python",
   "name": "python",
   "nbconvert_exporter": "python",
   "pygments_lexer": "ipython3",
   "version": "3.10.8"
  }
 },
 "nbformat": 4,
 "nbformat_minor": 5
}
