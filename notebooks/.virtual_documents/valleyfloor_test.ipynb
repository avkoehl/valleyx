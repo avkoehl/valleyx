import rioxarray as rxr
import geopandas as gpd
import matplotlib.pyplot as plt
from loguru import logger
import pdb

from valleyfloor.process_topography import process_topography
from valleyfloor.delineate_reaches import delineate_reaches
from valleyfloor.utils import setup_wbt

logger.enable("valleyfloor")


wbt = setup_wbt("~/opt/WBT/", "../working_dir")

dem = rxr.open_rasterio("../data/input/dem.tif", masked=True).squeeze()
flowlines = gpd.read_file("../data/input/flowlines.shp")


dem.plot()


flowlines.plot()


dataset, aligned_flowlines = process_topography(dem, flowlines, wbt)


from valleyfloor.flow.watershed import watershed_points
from valleyfloor.flow.hillslope import label_drainage_sides


# skip the segmenting into reaches
# still need to watershed and hillslope, maybe need to update the reach segmentation code to be able to handle 1m dem, e.g. no hardcoded cell counts
# different min length of a reach
# then get profiles
# could use wbt to get watershed for now
# hillslopes we can get


?watershed_points


?watershed_points



