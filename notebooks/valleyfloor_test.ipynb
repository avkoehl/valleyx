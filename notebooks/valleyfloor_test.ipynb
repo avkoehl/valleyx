{
 "cells": [
  {
   "cell_type": "code",
   "execution_count": 1,
   "id": "50179335-d8f9-4495-bf9f-229c4dd9341c",
   "metadata": {},
   "outputs": [],
   "source": [
    "import rioxarray as rxr\n",
    "import geopandas as gpd\n",
    "import matplotlib.pyplot as plt\n",
    "from loguru import logger\n",
    "import pdb\n",
    "\n",
    "from valleyfloor.process_topography import process_topography\n",
    "from valleyfloor.delineate_reaches import delineate_reaches\n",
    "from valleyfloor.utils import setup_wbt\n",
    "\n",
    "logger.enable(\"valleyfloor\")"
   ]
  },
  {
   "cell_type": "code",
   "execution_count": 2,
   "id": "f20e7221-b23b-462c-9f6d-c73cbe6902dc",
   "metadata": {},
   "outputs": [],
   "source": [
    "wbt = setup_wbt(\"~/opt/WBT/\", \"../working_dir\")\n",
    "\n",
    "dem = rxr.open_rasterio(\"../data/input/dem.tif\", masked=True).squeeze()\n",
    "flowlines = gpd.read_file(\"../data/input/flowlines.shp\")"
   ]
  },
  {
   "cell_type": "code",
   "execution_count": 4,
   "id": "31d7cda0",
   "metadata": {},
   "outputs": [
    {
     "name": "stderr",
     "output_type": "stream",
     "text": [
      "\u001b[32m2024-10-08 21:48:29.628\u001b[0m | \u001b[1mINFO    \u001b[0m | \u001b[36mvalleyfloor.process_topography\u001b[0m:\u001b[36mprocess_topography\u001b[0m:\u001b[36m36\u001b[0m - \u001b[1mprocess topography\u001b[0m\n",
      "/Users/arthurkoehl/Library/Caches/pypoetry/virtualenvs/slopes-mqMb1mKH-py3.10/lib/python3.10/site-packages/pyogrio/geopandas.py:662: UserWarning: 'crs' was not provided.  The output dataset will not have projection information defined and may not be usable in other systems.\n",
      "  write(\n"
     ]
    }
   ],
   "source": [
    "dataset, aligned_flowlines = process_topography(dem, flowlines, wbt)"
   ]
  },
  {
   "cell_type": "code",
   "execution_count": 5,
   "id": "a0b03015-eb6a-480b-b2a2-513127face2c",
   "metadata": {},
   "outputs": [],
   "source": [
    "from slopes.subbasins import label_subbasins\n",
    "from slopes.hillslopes import label_hillslopes"
   ]
  },
  {
   "cell_type": "code",
   "execution_count": 6,
   "id": "d905a1e9-52d1-42ab-a4be-b80dc7df7986",
   "metadata": {},
   "outputs": [],
   "source": [
    "subbasins = label_subbasins(dataset['flow_dir'], dataset['flow_acc'], dataset['flowpaths'], wbt)"
   ]
  },
  {
   "cell_type": "code",
   "execution_count": null,
   "id": "7e2278b1-0447-4838-923c-4f3d22dcabc2",
   "metadata": {},
   "outputs": [
    {
     "name": "stdout",
     "output_type": "stream",
     "text": [
      "1.0\n"
     ]
    },
    {
     "name": "stderr",
     "output_type": "stream",
     "text": [
      "/Users/arthurkoehl/Library/Caches/pypoetry/virtualenvs/slopes-mqMb1mKH-py3.10/lib/python3.10/site-packages/numba/typed/typeddict.py:34: NumbaTypeSafetyWarning: unsafe cast from int64 to uint8. Precision may be lost.\n",
      "  d[key] = value\n"
     ]
    }
   ],
   "source": [
    "hillslopes = label_hillslopes(dataset['flowpaths'], dataset['flow_dir'], dataset['flow_acc'], subbasins)"
   ]
  },
  {
   "cell_type": "code",
   "execution_count": null,
   "id": "dd14f45e-e33e-4aa1-8e0a-4b1a4ba6df61",
   "metadata": {},
   "outputs": [],
   "source": []
  }
 ],
 "metadata": {
  "kernelspec": {
   "display_name": "slopes",
   "language": "python",
   "name": "slopes"
  },
  "language_info": {
   "codemirror_mode": {
    "name": "ipython",
    "version": 3
   },
   "file_extension": ".py",
   "mimetype": "text/x-python",
   "name": "python",
   "nbconvert_exporter": "python",
   "pygments_lexer": "ipython3",
   "version": "3.10.8"
  }
 },
 "nbformat": 4,
 "nbformat_minor": 5
}
