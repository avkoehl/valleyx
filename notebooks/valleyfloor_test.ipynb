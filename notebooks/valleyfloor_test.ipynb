{
 "cells": [
  {
   "cell_type": "code",
   "execution_count": 1,
   "id": "50179335-d8f9-4495-bf9f-229c4dd9341c",
   "metadata": {},
   "outputs": [],
   "source": [
    "import rioxarray as rxr\n",
    "import geopandas as gpd\n",
    "import matplotlib.pyplot as plt\n",
    "from loguru import logger\n",
    "import numpy as np\n",
    "\n",
    "from valleyfloor.process_topography import process_topography\n",
    "from valleyfloor.utils import setup_wbt\n",
    "\n",
    "logger.enable(\"valleyfloor\")"
   ]
  },
  {
   "cell_type": "code",
   "execution_count": 2,
   "id": "f20e7221-b23b-462c-9f6d-c73cbe6902dc",
   "metadata": {},
   "outputs": [],
   "source": [
    "wbt = setup_wbt(\"~/opt/WBT/\", \"../working_dir\")\n",
    "\n",
    "dem = rxr.open_rasterio(\"../data/input/dem.tif\", masked=True).squeeze()\n",
    "flowlines = gpd.read_file(\"../data/input/flowlines.shp\")"
   ]
  },
  {
   "cell_type": "code",
   "execution_count": 3,
   "id": "31d7cda0",
   "metadata": {},
   "outputs": [
    {
     "name": "stderr",
     "output_type": "stream",
     "text": [
      "\u001b[32m2024-10-11 13:14:54.364\u001b[0m | \u001b[1mINFO    \u001b[0m | \u001b[36mvalleyfloor.process_topography\u001b[0m:\u001b[36mprocess_topography\u001b[0m:\u001b[36m36\u001b[0m - \u001b[1mprocess topography\u001b[0m\n",
      "/Users/arthurkoehl/Library/Caches/pypoetry/virtualenvs/slopes-mqMb1mKH-py3.10/lib/python3.10/site-packages/pyogrio/geopandas.py:662: UserWarning: 'crs' was not provided.  The output dataset will not have projection information defined and may not be usable in other systems.\n",
      "  write(\n"
     ]
    },
    {
     "data": {
      "text/plain": [
       "Stream_ID\n",
       "1.0     LINESTRING (393865.5 3791235.5, 393866.5 37912...\n",
       "2.0     LINESTRING (395219.5 3791163.5, 395218.5 37911...\n",
       "3.0     LINESTRING (394322.5 3791032.5, 394322.5 37910...\n",
       "4.0     LINESTRING (395096.5 3791023.5, 395096.5 37910...\n",
       "5.0     LINESTRING (394657.5 3790993.5, 394654.5 37909...\n",
       "6.0     LINESTRING (394902.5 3790597.5, 394902.5 37905...\n",
       "7.0     LINESTRING (394514.5 3790355.5, 394514.5 37903...\n",
       "9.0     LINESTRING (394536.5 3790394.5, 394536.5 37903...\n",
       "10.0    LINESTRING (394129.5 3790570.5, 394128.5 37905...\n",
       "11.0    LINESTRING (394631.5 3790957.5, 394630.5 37909...\n",
       "12.0    LINESTRING (395030.5 3791080.5, 395029.5 37910...\n",
       "13.0    LINESTRING (394304.5 3790811.5, 394301.5 37908...\n",
       "14.0    LINESTRING (394144.5 3790721.5, 394143.5 37907...\n",
       "dtype: geometry"
      ]
     },
     "execution_count": 3,
     "metadata": {},
     "output_type": "execute_result"
    }
   ],
   "source": [
    "dataset, aligned_flowlines = process_topography(dem, flowlines, wbt)\n",
    "aligned_flowlines = gpd.GeoSeries(aligned_flowlines['geometry'].values, index=aligned_flowlines['Stream_ID'])\n",
    "aligned_flowlines"
   ]
  },
  {
   "cell_type": "code",
   "execution_count": 5,
   "id": "6edc3e81-1ca7-4ca9-9c9f-d9892ce98aaa",
   "metadata": {},
   "outputs": [],
   "source": [
    "dataset['flowpaths'].rio.to_raster(\"../working_dir/flowpaths.tif\")"
   ]
  },
  {
   "cell_type": "code",
   "execution_count": 4,
   "id": "a0b03015-eb6a-480b-b2a2-513127face2c",
   "metadata": {},
   "outputs": [],
   "source": [
    "from slopes.subbasins import label_subbasins\n",
    "from slopes.hillslopes import label_hillslopes"
   ]
  },
  {
   "cell_type": "code",
   "execution_count": 5,
   "id": "d905a1e9-52d1-42ab-a4be-b80dc7df7986",
   "metadata": {},
   "outputs": [],
   "source": [
    "subbasins = label_subbasins(dataset['flow_dir'], dataset['flow_acc'], dataset['flowpaths'], wbt)"
   ]
  },
  {
   "cell_type": "code",
   "execution_count": 6,
   "id": "7e2278b1-0447-4838-923c-4f3d22dcabc2",
   "metadata": {},
   "outputs": [],
   "source": [
    "hillslopes = label_hillslopes(dataset['flowpaths'], dataset['flow_dir'], subbasins, wbt)"
   ]
  },
  {
   "cell_type": "code",
   "execution_count": 16,
   "id": "1bda2071-d079-4be0-aac3-01c16e3858ac",
   "metadata": {},
   "outputs": [],
   "source": [
    "dataset['hillslope'] = hillslopes\n",
    "dataset['subbasins'] = subbasins"
   ]
  },
  {
   "cell_type": "code",
   "execution_count": 8,
   "id": "fe540e56-fbbc-43ae-859d-9906e5da58a9",
   "metadata": {},
   "outputs": [],
   "source": [
    "from slopes.network_xsections import network_xsections, observe_values"
   ]
  },
  {
   "cell_type": "code",
   "execution_count": 43,
   "id": "d8750dcd-d4e0-4580-89f6-8182a5d2afa7",
   "metadata": {},
   "outputs": [],
   "source": [
    "xs = network_xsections(aligned_flowlines, 10, 40, 3, subbasins=subbasins)"
   ]
  },
  {
   "cell_type": "code",
   "execution_count": 44,
   "id": "9155d3b7-0792-4587-8b81-a153e9a330e6",
   "metadata": {},
   "outputs": [],
   "source": [
    "xs = observe_values(xs, dataset[['conditioned_dem', 'hand', 'slope', 'curvature', 'hillslope', 'flowpaths']])"
   ]
  },
  {
   "cell_type": "code",
   "execution_count": 45,
   "id": "f8e7ac82-7e40-4ebc-8f78-ca3f30c24c05",
   "metadata": {},
   "outputs": [
    {
     "data": {
      "text/html": [
       "<div>\n",
       "<style scoped>\n",
       "    .dataframe tbody tr th:only-of-type {\n",
       "        vertical-align: middle;\n",
       "    }\n",
       "\n",
       "    .dataframe tbody tr th {\n",
       "        vertical-align: top;\n",
       "    }\n",
       "\n",
       "    .dataframe thead th {\n",
       "        text-align: right;\n",
       "    }\n",
       "</style>\n",
       "<table border=\"1\" class=\"dataframe\">\n",
       "  <thead>\n",
       "    <tr style=\"text-align: right;\">\n",
       "      <th></th>\n",
       "      <th>geom</th>\n",
       "      <th>pointID</th>\n",
       "      <th>streamID</th>\n",
       "      <th>xsID</th>\n",
       "      <th>alpha</th>\n",
       "      <th>conditioned_dem</th>\n",
       "      <th>hand</th>\n",
       "      <th>slope</th>\n",
       "      <th>curvature</th>\n",
       "      <th>hillslope</th>\n",
       "      <th>flowpaths</th>\n",
       "    </tr>\n",
       "  </thead>\n",
       "  <tbody>\n",
       "    <tr>\n",
       "      <th>16698</th>\n",
       "      <td>POINT (393697.916 3791067.916)</td>\n",
       "      <td>0</td>\n",
       "      <td>1.0</td>\n",
       "      <td>0</td>\n",
       "      <td>-237</td>\n",
       "      <td>962.053223</td>\n",
       "      <td>114.158671</td>\n",
       "      <td>13.505434</td>\n",
       "      <td>0.020138</td>\n",
       "      <td>3.0</td>\n",
       "      <td>NaN</td>\n",
       "    </tr>\n",
       "    <tr>\n",
       "      <th>16699</th>\n",
       "      <td>POINT (393700.037 3791070.037)</td>\n",
       "      <td>1</td>\n",
       "      <td>1.0</td>\n",
       "      <td>0</td>\n",
       "      <td>-234</td>\n",
       "      <td>960.316589</td>\n",
       "      <td>112.422038</td>\n",
       "      <td>28.941158</td>\n",
       "      <td>0.025338</td>\n",
       "      <td>3.0</td>\n",
       "      <td>NaN</td>\n",
       "    </tr>\n",
       "    <tr>\n",
       "      <th>16700</th>\n",
       "      <td>POINT (393702.158 3791072.158)</td>\n",
       "      <td>2</td>\n",
       "      <td>1.0</td>\n",
       "      <td>0</td>\n",
       "      <td>-231</td>\n",
       "      <td>958.625793</td>\n",
       "      <td>110.731242</td>\n",
       "      <td>32.505211</td>\n",
       "      <td>0.019083</td>\n",
       "      <td>3.0</td>\n",
       "      <td>NaN</td>\n",
       "    </tr>\n",
       "    <tr>\n",
       "      <th>17421</th>\n",
       "      <td>POINT (393704.28 3791074.28)</td>\n",
       "      <td>3</td>\n",
       "      <td>1.0</td>\n",
       "      <td>0</td>\n",
       "      <td>-228</td>\n",
       "      <td>956.708313</td>\n",
       "      <td>108.813762</td>\n",
       "      <td>35.937660</td>\n",
       "      <td>0.010088</td>\n",
       "      <td>3.0</td>\n",
       "      <td>NaN</td>\n",
       "    </tr>\n",
       "    <tr>\n",
       "      <th>17422</th>\n",
       "      <td>POINT (393706.401 3791076.401)</td>\n",
       "      <td>4</td>\n",
       "      <td>1.0</td>\n",
       "      <td>0</td>\n",
       "      <td>-225</td>\n",
       "      <td>954.640503</td>\n",
       "      <td>106.745952</td>\n",
       "      <td>36.074234</td>\n",
       "      <td>-0.003386</td>\n",
       "      <td>3.0</td>\n",
       "      <td>NaN</td>\n",
       "    </tr>\n",
       "    <tr>\n",
       "      <th>...</th>\n",
       "      <td>...</td>\n",
       "      <td>...</td>\n",
       "      <td>...</td>\n",
       "      <td>...</td>\n",
       "      <td>...</td>\n",
       "      <td>...</td>\n",
       "      <td>...</td>\n",
       "      <td>...</td>\n",
       "      <td>...</td>\n",
       "      <td>...</td>\n",
       "      <td>...</td>\n",
       "    </tr>\n",
       "    <tr>\n",
       "      <th>74380</th>\n",
       "      <td>POINT (394195.88 3790643.471)</td>\n",
       "      <td>74786</td>\n",
       "      <td>14.0</td>\n",
       "      <td>17</td>\n",
       "      <td>95</td>\n",
       "      <td>847.804199</td>\n",
       "      <td>48.960571</td>\n",
       "      <td>37.677765</td>\n",
       "      <td>-0.016617</td>\n",
       "      <td>3.0</td>\n",
       "      <td>NaN</td>\n",
       "    </tr>\n",
       "    <tr>\n",
       "      <th>74382</th>\n",
       "      <td>POINT (394198.001 3790645.592)</td>\n",
       "      <td>74787</td>\n",
       "      <td>14.0</td>\n",
       "      <td>17</td>\n",
       "      <td>98</td>\n",
       "      <td>850.866211</td>\n",
       "      <td>52.022583</td>\n",
       "      <td>42.611908</td>\n",
       "      <td>-0.006895</td>\n",
       "      <td>3.0</td>\n",
       "      <td>NaN</td>\n",
       "    </tr>\n",
       "    <tr>\n",
       "      <th>74384</th>\n",
       "      <td>POINT (394200.122 3790647.713)</td>\n",
       "      <td>74788</td>\n",
       "      <td>14.0</td>\n",
       "      <td>17</td>\n",
       "      <td>101</td>\n",
       "      <td>853.341064</td>\n",
       "      <td>54.497437</td>\n",
       "      <td>42.102978</td>\n",
       "      <td>0.007257</td>\n",
       "      <td>3.0</td>\n",
       "      <td>NaN</td>\n",
       "    </tr>\n",
       "    <tr>\n",
       "      <th>74386</th>\n",
       "      <td>POINT (394202.244 3790649.835)</td>\n",
       "      <td>74789</td>\n",
       "      <td>14.0</td>\n",
       "      <td>17</td>\n",
       "      <td>104</td>\n",
       "      <td>855.799316</td>\n",
       "      <td>56.955688</td>\n",
       "      <td>39.175205</td>\n",
       "      <td>0.012809</td>\n",
       "      <td>3.0</td>\n",
       "      <td>NaN</td>\n",
       "    </tr>\n",
       "    <tr>\n",
       "      <th>74388</th>\n",
       "      <td>POINT (394204.365 3790651.956)</td>\n",
       "      <td>74790</td>\n",
       "      <td>14.0</td>\n",
       "      <td>17</td>\n",
       "      <td>107</td>\n",
       "      <td>857.484802</td>\n",
       "      <td>58.641174</td>\n",
       "      <td>36.033909</td>\n",
       "      <td>-0.010938</td>\n",
       "      <td>3.0</td>\n",
       "      <td>NaN</td>\n",
       "    </tr>\n",
       "  </tbody>\n",
       "</table>\n",
       "<p>74791 rows × 11 columns</p>\n",
       "</div>"
      ],
      "text/plain": [
       "                                 geom  pointID  streamID  xsID  alpha  \\\n",
       "16698  POINT (393697.916 3791067.916)        0       1.0     0   -237   \n",
       "16699  POINT (393700.037 3791070.037)        1       1.0     0   -234   \n",
       "16700  POINT (393702.158 3791072.158)        2       1.0     0   -231   \n",
       "17421    POINT (393704.28 3791074.28)        3       1.0     0   -228   \n",
       "17422  POINT (393706.401 3791076.401)        4       1.0     0   -225   \n",
       "...                               ...      ...       ...   ...    ...   \n",
       "74380   POINT (394195.88 3790643.471)    74786      14.0    17     95   \n",
       "74382  POINT (394198.001 3790645.592)    74787      14.0    17     98   \n",
       "74384  POINT (394200.122 3790647.713)    74788      14.0    17    101   \n",
       "74386  POINT (394202.244 3790649.835)    74789      14.0    17    104   \n",
       "74388  POINT (394204.365 3790651.956)    74790      14.0    17    107   \n",
       "\n",
       "       conditioned_dem        hand      slope  curvature  hillslope  flowpaths  \n",
       "16698       962.053223  114.158671  13.505434   0.020138        3.0        NaN  \n",
       "16699       960.316589  112.422038  28.941158   0.025338        3.0        NaN  \n",
       "16700       958.625793  110.731242  32.505211   0.019083        3.0        NaN  \n",
       "17421       956.708313  108.813762  35.937660   0.010088        3.0        NaN  \n",
       "17422       954.640503  106.745952  36.074234  -0.003386        3.0        NaN  \n",
       "...                ...         ...        ...        ...        ...        ...  \n",
       "74380       847.804199   48.960571  37.677765  -0.016617        3.0        NaN  \n",
       "74382       850.866211   52.022583  42.611908  -0.006895        3.0        NaN  \n",
       "74384       853.341064   54.497437  42.102978   0.007257        3.0        NaN  \n",
       "74386       855.799316   56.955688  39.175205   0.012809        3.0        NaN  \n",
       "74388       857.484802   58.641174  36.033909  -0.010938        3.0        NaN  \n",
       "\n",
       "[74791 rows x 11 columns]"
      ]
     },
     "execution_count": 45,
     "metadata": {},
     "output_type": "execute_result"
    }
   ],
   "source": [
    "xs"
   ]
  },
  {
   "cell_type": "code",
   "execution_count": 68,
   "id": "c466eaba-af66-4f15-bc9a-a5240ec4f972",
   "metadata": {},
   "outputs": [],
   "source": [
    "stream_xs = xs.loc[xs['streamID'] == 6]\n",
    "sample = stream_xs.loc[stream_xs['xsID'] == 9].sort_values('alpha')\n",
    "mid = sample.loc[np.isfinite(sample['flowpaths']), 'alpha']"
   ]
  },
  {
   "cell_type": "code",
   "execution_count": 69,
   "id": "f32a8c6f-3b6d-404f-8c53-02b0231aaa44",
   "metadata": {},
   "outputs": [
    {
     "data": {
      "text/plain": [
       "[<matplotlib.lines.Line2D at 0x1308370d0>]"
      ]
     },
     "execution_count": 69,
     "metadata": {},
     "output_type": "execute_result"
    },
    {
     "data": {
      "image/png": "[encoded data removed]",
      "text/plain": [
       "<Figure size 640x480 with 3 Axes>"
      ]
     },
     "metadata": {},
     "output_type": "display_data"
    }
   ],
   "source": [
    "fig, axes = plt.subplots(3)\n",
    "axes[0].plot(sample['alpha'], sample['conditioned_dem'])\n",
    "axes[1].plot(sample['alpha'], sample['slope'])\n",
    "axes[2].plot(sample['alpha'], sample['curvature'])"
   ]
  },
  {
   "cell_type": "code",
   "execution_count": 77,
   "id": "92eb51d8-01d2-4101-b719-492b5baad0ae",
   "metadata": {},
   "outputs": [],
   "source": [
    "from slopes.segment_profile import mean_shift"
   ]
  },
  {
   "cell_type": "code",
   "execution_count": 78,
   "id": "55a7470d-fa1c-4d39-b937-140d7a403148",
   "metadata": {},
   "outputs": [],
   "source": [
    "slope = sample['slope']"
   ]
  },
  {
   "cell_type": "code",
   "execution_count": 79,
   "id": "d6b95504-2319-43c7-acf9-4d79fb41e987",
   "metadata": {},
   "outputs": [
    {
     "data": {
      "text/plain": [
       "array([0, 0, 0, 0, 0, 0, 0, 0, 0, 0, 1, 1, 0, 0, 0, 0, 0, 0, 0, 0, 0, 0,\n",
       "       0, 0, 0, 0, 0, 0, 0, 0, 0, 0, 0, 0, 0, 0, 0, 0, 0, 0, 0, 0, 1, 0,\n",
       "       0, 0, 0, 0, 0, 0, 0, 0, 0, 0, 0, 0, 0, 1, 1, 1, 1, 1, 1, 1, 1, 1,\n",
       "       1, 1, 1, 1, 1])"
      ]
     },
     "execution_count": 79,
     "metadata": {},
     "output_type": "execute_result"
    }
   ],
   "source": [
    "mean_shift(slope)"
   ]
  },
  {
   "cell_type": "code",
   "execution_count": 19,
   "id": "7af2f2d5-229e-495c-b05b-f773ff020c40",
   "metadata": {},
   "outputs": [
    {
     "data": {
      "text/html": [
       "<div>\n",
       "<style scoped>\n",
       "    .dataframe tbody tr th:only-of-type {\n",
       "        vertical-align: middle;\n",
       "    }\n",
       "\n",
       "    .dataframe tbody tr th {\n",
       "        vertical-align: top;\n",
       "    }\n",
       "\n",
       "    .dataframe thead th {\n",
       "        text-align: right;\n",
       "    }\n",
       "</style>\n",
       "<table border=\"1\" class=\"dataframe\">\n",
       "  <thead>\n",
       "    <tr style=\"text-align: right;\">\n",
       "      <th></th>\n",
       "      <th>Stream_ID</th>\n",
       "      <th>geometry</th>\n",
       "    </tr>\n",
       "  </thead>\n",
       "  <tbody>\n",
       "    <tr>\n",
       "      <th>0</th>\n",
       "      <td>1.0</td>\n",
       "      <td>LINESTRING (393865.5 3791235.5, 393866.5 37912...</td>\n",
       "    </tr>\n",
       "    <tr>\n",
       "      <th>1</th>\n",
       "      <td>2.0</td>\n",
       "      <td>LINESTRING (395219.5 3791163.5, 395218.5 37911...</td>\n",
       "    </tr>\n",
       "    <tr>\n",
       "      <th>2</th>\n",
       "      <td>3.0</td>\n",
       "      <td>LINESTRING (394322.5 3791032.5, 394322.5 37910...</td>\n",
       "    </tr>\n",
       "    <tr>\n",
       "      <th>3</th>\n",
       "      <td>4.0</td>\n",
       "      <td>LINESTRING (395096.5 3791023.5, 395096.5 37910...</td>\n",
       "    </tr>\n",
       "    <tr>\n",
       "      <th>4</th>\n",
       "      <td>5.0</td>\n",
       "      <td>LINESTRING (394657.5 3790993.5, 394654.5 37909...</td>\n",
       "    </tr>\n",
       "    <tr>\n",
       "      <th>5</th>\n",
       "      <td>6.0</td>\n",
       "      <td>LINESTRING (394902.5 3790597.5, 394902.5 37905...</td>\n",
       "    </tr>\n",
       "    <tr>\n",
       "      <th>6</th>\n",
       "      <td>7.0</td>\n",
       "      <td>LINESTRING (394514.5 3790355.5, 394514.5 37903...</td>\n",
       "    </tr>\n",
       "    <tr>\n",
       "      <th>7</th>\n",
       "      <td>9.0</td>\n",
       "      <td>LINESTRING (394536.5 3790394.5, 394536.5 37903...</td>\n",
       "    </tr>\n",
       "    <tr>\n",
       "      <th>8</th>\n",
       "      <td>10.0</td>\n",
       "      <td>LINESTRING (394129.5 3790570.5, 394128.5 37905...</td>\n",
       "    </tr>\n",
       "    <tr>\n",
       "      <th>9</th>\n",
       "      <td>11.0</td>\n",
       "      <td>LINESTRING (394631.5 3790957.5, 394630.5 37909...</td>\n",
       "    </tr>\n",
       "    <tr>\n",
       "      <th>10</th>\n",
       "      <td>12.0</td>\n",
       "      <td>LINESTRING (395030.5 3791080.5, 395029.5 37910...</td>\n",
       "    </tr>\n",
       "    <tr>\n",
       "      <th>11</th>\n",
       "      <td>13.0</td>\n",
       "      <td>LINESTRING (394304.5 3790811.5, 394301.5 37908...</td>\n",
       "    </tr>\n",
       "    <tr>\n",
       "      <th>12</th>\n",
       "      <td>14.0</td>\n",
       "      <td>LINESTRING (394144.5 3790721.5, 394143.5 37907...</td>\n",
       "    </tr>\n",
       "  </tbody>\n",
       "</table>\n",
       "</div>"
      ],
      "text/plain": [
       "    Stream_ID                                           geometry\n",
       "0         1.0  LINESTRING (393865.5 3791235.5, 393866.5 37912...\n",
       "1         2.0  LINESTRING (395219.5 3791163.5, 395218.5 37911...\n",
       "2         3.0  LINESTRING (394322.5 3791032.5, 394322.5 37910...\n",
       "3         4.0  LINESTRING (395096.5 3791023.5, 395096.5 37910...\n",
       "4         5.0  LINESTRING (394657.5 3790993.5, 394654.5 37909...\n",
       "5         6.0  LINESTRING (394902.5 3790597.5, 394902.5 37905...\n",
       "6         7.0  LINESTRING (394514.5 3790355.5, 394514.5 37903...\n",
       "7         9.0  LINESTRING (394536.5 3790394.5, 394536.5 37903...\n",
       "8        10.0  LINESTRING (394129.5 3790570.5, 394128.5 37905...\n",
       "9        11.0  LINESTRING (394631.5 3790957.5, 394630.5 37909...\n",
       "10       12.0  LINESTRING (395030.5 3791080.5, 395029.5 37910...\n",
       "11       13.0  LINESTRING (394304.5 3790811.5, 394301.5 37908...\n",
       "12       14.0  LINESTRING (394144.5 3790721.5, 394143.5 37907..."
      ]
     },
     "execution_count": 19,
     "metadata": {},
     "output_type": "execute_result"
    }
   ],
   "source": [
    "aligned_flowlines"
   ]
  },
  {
   "cell_type": "code",
   "execution_count": 27,
   "id": "85de1be5-88dd-479d-8571-e1947bf0ae67",
   "metadata": {},
   "outputs": [
    {
     "name": "stdout",
     "output_type": "stream",
     "text": [
      "1.0 LINESTRING (393865.5 3791235.5, 393866.5 3791234.5, 393866.5 3791228.5, 393865.5 3791227.5, 393865.5 3791223.5, 393863.5 3791221.5, 393863.5 3791220.5, 393862.5 3791220.5, 393856.5 3791214.5, 393856.5 3791212.5, 393857.5 3791211.5, 393857.5 3791210.5, 393858.5 3791209.5, 393858.5 3791208.5, 393857.5 3791207.5, 393859.5 3791205.5, 393859.5 3791180.5, 393858.5 3791179.5, 393858.5 3791177.5, 393857.5 3791176.5, 393857.5 3791175.5, 393856.5 3791174.5, 393856.5 3791173.5, 393854.5 3791171.5, 393854.5 3791164.5, 393852.5 3791162.5, 393852.5 3791161.5, 393851.5 3791160.5, 393851.5 3791159.5, 393852.5 3791158.5, 393852.5 3791150.5, 393851.5 3791149.5, 393851.5 3791146.5, 393852.5 3791145.5, 393852.5 3791137.5, 393853.5 3791136.5, 393853.5 3791135.5, 393854.5 3791134.5, 393854.5 3791132.5, 393855.5 3791131.5, 393855.5 3791128.5, 393856.5 3791127.5, 393857.5 3791127.5, 393858.5 3791126.5, 393859.5 3791126.5, 393860.5 3791127.5, 393864.5 3791127.5, 393865.5 3791126.5, 393867.5 3791126.5, 393868.5 3791127.5, 393870.5 3791127.5, 393874.5 3791131.5, 393875.5 3791131.5, 393876.5 3791132.5, 393880.5 3791132.5, 393881.5 3791131.5, 393883.5 3791131.5, 393884.5 3791132.5, 393886.5 3791132.5, 393887.5 3791131.5, 393888.5 3791131.5, 393889.5 3791130.5, 393891.5 3791130.5, 393896.5 3791125.5, 393896.5 3791123.5, 393901.5 3791118.5, 393901.5 3791116.5, 393902.5 3791115.5, 393901.5 3791114.5, 393901.5 3791112.5, 393900.5 3791111.5, 393900.5 3791109.5, 393899.5 3791108.5, 393899.5 3791107.5, 393898.5 3791106.5, 393896.5 3791106.5, 393895.5 3791105.5, 393895.5 3791104.5, 393893.5 3791102.5, 393893.5 3791101.5, 393892.5 3791100.5, 393892.5 3791099.5, 393891.5 3791099.5, 393890.5 3791098.5, 393890.5 3791095.5, 393887.5 3791092.5, 393887.5 3791091.5, 393885.5 3791089.5, 393884.5 3791089.5, 393883.5 3791088.5, 393881.5 3791088.5, 393875.5 3791082.5, 393875.5 3791081.5, 393874.5 3791080.5, 393874.5 3791079.5, 393872.5 3791077.5, 393872.5 3791076.5, 393868.5 3791072.5, 393868.5 3791071.5, 393864.5 3791067.5, 393865.5 3791066.5, 393865.5 3791063.5, 393867.5 3791061.5, 393867.5 3791060.5, 393869.5 3791058.5, 393869.5 3791057.5, 393870.5 3791056.5, 393870.5 3791054.5, 393871.5 3791053.5, 393871.5 3791052.5, 393878.5 3791045.5, 393879.5 3791045.5, 393881.5 3791043.5, 393882.5 3791043.5, 393883.5 3791042.5, 393885.5 3791042.5, 393886.5 3791041.5, 393888.5 3791041.5, 393889.5 3791040.5, 393890.5 3791040.5, 393892.5 3791038.5, 393897.5 3791038.5, 393898.5 3791037.5, 393899.5 3791037.5, 393900.5 3791036.5, 393901.5 3791036.5, 393902.5 3791035.5, 393903.5 3791035.5, 393904.5 3791034.5, 393908.5 3791034.5, 393909.5 3791033.5, 393911.5 3791033.5, 393912.5 3791032.5, 393916.5 3791032.5, 393917.5 3791031.5, 393919.5 3791031.5, 393920.5 3791030.5, 393922.5 3791030.5, 393923.5 3791029.5, 393930.5 3791029.5, 393931.5 3791028.5, 393932.5 3791028.5, 393937.5 3791023.5, 393939.5 3791023.5, 393943.5 3791019.5, 393944.5 3791019.5, 393945.5 3791020.5, 393946.5 3791020.5, 393948.5 3791018.5, 393948.5 3791017.5, 393950.5 3791015.5, 393951.5 3791015.5, 393953.5 3791013.5, 393953.5 3791012.5, 393954.5 3791011.5, 393954.5 3791010.5, 393956.5 3791008.5, 393956.5 3791007.5, 393960.5 3791003.5, 393960.5 3791002.5, 393961.5 3791001.5, 393962.5 3791001.5, 393965.5 3790998.5, 393965.5 3790997.5, 393968.5 3790994.5, 393968.5 3790993.5, 393973.5 3790988.5, 393974.5 3790988.5, 393976.5 3790986.5, 393976.5 3790985.5, 393979.5 3790982.5, 393984.5 3790982.5, 393986.5 3790980.5, 393990.5 3790980.5, 393992.5 3790978.5, 393998.5 3790978.5, 393998.5 3790979.5, 394002.5 3790979.5, 394003.5 3790978.5, 394013.5 3790978.5, 394014.5 3790979.5, 394015.5 3790979.5, 394016.5 3790980.5, 394017.5 3790980.5, 394018.5 3790981.5, 394019.5 3790981.5, 394020.5 3790982.5, 394021.5 3790982.5, 394022.5 3790983.5, 394023.5 3790983.5, 394025.5 3790985.5, 394025.5 3790986.5, 394029.5 3790990.5, 394030.5 3790990.5, 394031.5 3790991.5, 394032.5 3790991.5, 394034.5 3790993.5, 394035.5 3790993.5, 394038.5 3790996.5, 394039.5 3790996.5, 394049.5 3791006.5, 394049.5 3791007.5, 394053.5 3791011.5, 394053.5 3791012.5, 394055.5 3791014.5, 394056.5 3791014.5, 394056.5 3791015.5, 394057.5 3791015.5, 394058.5 3791016.5, 394062.5 3791016.5, 394064.5 3791018.5, 394064.5 3791020.5, 394070.5 3791026.5, 394071.5 3791026.5, 394071.5 3791027.5, 394073.5 3791029.5, 394073.5 3791030.5, 394074.5 3791031.5, 394074.5 3791032.5, 394075.5 3791033.5, 394075.5 3791034.5, 394078.5 3791037.5, 394079.5 3791037.5, 394079.5 3791038.5, 394082.5 3791041.5, 394084.5 3791041.5, 394086.5 3791043.5, 394087.5 3791043.5, 394088.5 3791044.5, 394089.5 3791044.5, 394091.5 3791046.5, 394094.5 3791046.5, 394095.5 3791047.5, 394096.5 3791047.5, 394098.5 3791049.5, 394103.5 3791049.5, 394104.5 3791050.5, 394109.5 3791050.5, 394110.5 3791049.5, 394111.5 3791049.5, 394113.5 3791047.5, 394113.5 3791046.5, 394114.5 3791045.5, 394114.5 3791044.5, 394119.5 3791039.5, 394118.5 3791038.5, 394118.5 3791035.5, 394120.5 3791033.5, 394120.5 3791031.5, 394121.5 3791030.5, 394121.5 3791025.5, 394122.5 3791024.5, 394122.5 3791022.5, 394123.5 3791021.5, 394123.5 3791020.5, 394125.5 3791018.5, 394125.5 3791017.5, 394126.5 3791016.5, 394126.5 3791011.5, 394125.5 3791010.5, 394125.5 3791009.5, 394124.5 3791008.5, 394124.5 3791005.5, 394125.5 3791004.5, 394125.5 3791003.5, 394124.5 3791002.5, 394124.5 3791000.5, 394123.5 3790999.5, 394122.5 3790999.5, 394120.5 3790997.5, 394120.5 3790993.5, 394121.5 3790992.5, 394121.5 3790986.5, 394122.5 3790985.5, 394122.5 3790981.5, 394123.5 3790980.5, 394124.5 3790980.5, 394125.5 3790979.5, 394129.5 3790979.5, 394130.5 3790978.5, 394138.5 3790978.5, 394139.5 3790977.5, 394143.5 3790977.5, 394145.5 3790975.5, 394147.5 3790975.5, 394148.5 3790974.5, 394150.5 3790974.5, 394157.5 3790967.5, 394158.5 3790967.5, 394158.5 3790966.5, 394163.5 3790961.5, 394163.5 3790955.5, 394164.5 3790954.5, 394164.5 3790944.5, 394165.5 3790943.5, 394165.5 3790942.5, 394166.5 3790941.5, 394166.5 3790935.5, 394165.5 3790934.5, 394163.5 3790934.5, 394158.5 3790929.5, 394157.5 3790929.5, 394156.5 3790928.5, 394153.5 3790928.5, 394152.5 3790927.5, 394151.5 3790927.5, 394143.5 3790919.5, 394142.5 3790919.5, 394141.5 3790918.5, 394140.5 3790918.5, 394139.5 3790917.5, 394138.5 3790917.5, 394136.5 3790915.5, 394135.5 3790916.5, 394132.5 3790913.5, 394132.5 3790912.5, 394129.5 3790909.5, 394129.5 3790907.5, 394127.5 3790905.5, 394127.5 3790904.5, 394117.5 3790894.5, 394114.5 3790894.5, 394109.5 3790889.5, 394109.5 3790887.5, 394108.5 3790886.5, 394108.5 3790885.5, 394107.5 3790884.5, 394107.5 3790883.5, 394104.5 3790880.5, 394104.5 3790877.5, 394103.5 3790877.5, 394102.5 3790876.5, 394101.5 3790876.5, 394100.5 3790875.5, 394097.5 3790875.5, 394096.5 3790874.5, 394095.5 3790874.5, 394094.5 3790873.5, 394092.5 3790873.5, 394091.5 3790872.5, 394081.5 3790872.5, 394080.5 3790871.5, 394075.5 3790871.5, 394075.5 3790870.5, 394072.5 3790870.5, 394071.5 3790869.5, 394070.5 3790869.5, 394068.5 3790867.5, 394067.5 3790867.5, 394064.5 3790864.5, 394064.5 3790862.5, 394060.5 3790858.5, 394059.5 3790858.5, 394057.5 3790856.5, 394056.5 3790856.5, 394055.5 3790855.5, 394053.5 3790855.5, 394048.5 3790850.5, 394048.5 3790843.5, 394049.5 3790842.5, 394049.5 3790839.5, 394051.5 3790837.5, 394051.5 3790834.5, 394057.5 3790828.5, 394059.5 3790828.5, 394060.5 3790827.5, 394063.5 3790827.5, 394064.5 3790826.5, 394065.5 3790826.5, 394066.5 3790825.5, 394067.5 3790825.5, 394068.5 3790824.5, 394072.5 3790824.5, 394073.5 3790823.5, 394075.5 3790823.5, 394076.5 3790822.5, 394077.5 3790822.5, 394078.5 3790821.5, 394079.5 3790821.5, 394084.5 3790816.5, 394090.5 3790816.5, 394091.5 3790815.5, 394095.5 3790815.5, 394099.5 3790811.5, 394103.5 3790811.5, 394104.5 3790810.5, 394105.5 3790810.5, 394106.5 3790809.5, 394107.5 3790809.5, 394108.5 3790808.5, 394116.5 3790808.5, 394117.5 3790809.5, 394125.5 3790809.5, 394126.5 3790808.5, 394128.5 3790808.5, 394129.5 3790807.5, 394129.5 3790805.5, 394130.5 3790804.5, 394130.5 3790803.5, 394134.5 3790799.5, 394134.5 3790798.5, 394135.5 3790797.5, 394135.5 3790796.5, 394134.5 3790795.5, 394134.5 3790794.5, 394133.5 3790793.5, 394133.5 3790792.5, 394130.5 3790789.5, 394130.5 3790784.5, 394128.5 3790782.5, 394128.5 3790773.5, 394129.5 3790772.5, 394129.5 3790771.5, 394130.5 3790770.5, 394130.5 3790767.5, 394131.5 3790766.5, 394131.5 3790765.5, 394132.5 3790764.5, 394132.5 3790763.5, 394133.5 3790762.5, 394133.5 3790761.5, 394134.5 3790760.5, 394134.5 3790759.5, 394135.5 3790758.5, 394135.5 3790757.5, 394137.5 3790755.5, 394137.5 3790754.5, 394139.5 3790752.5, 394139.5 3790750.5, 394144.5 3790745.5, 394144.5 3790744.5, 394145.5 3790743.5, 394145.5 3790741.5, 394146.5 3790740.5, 394146.5 3790739.5, 394147.5 3790738.5, 394147.5 3790736.5, 394146.5 3790735.5, 394146.5 3790731.5, 394144.5 3790729.5, 394144.5 3790721.5)\n",
      "2.0 LINESTRING (395219.5 3791163.5, 395218.5 3791164.5, 395217.5 3791164.5, 395216.5 3791163.5, 395215.5 3791163.5, 395213.5 3791161.5, 395213.5 3791159.5, 395211.5 3791157.5, 395210.5 3791157.5, 395209.5 3791156.5, 395205.5 3791156.5, 395204.5 3791157.5, 395203.5 3791157.5, 395202.5 3791156.5, 395201.5 3791156.5, 395200.5 3791155.5, 395199.5 3791155.5, 395198.5 3791154.5, 395196.5 3791154.5, 395194.5 3791152.5, 395187.5 3791152.5, 395183.5 3791148.5, 395166.5 3791148.5, 395165.5 3791147.5, 395162.5 3791147.5, 395161.5 3791148.5, 395158.5 3791148.5, 395157.5 3791147.5, 395154.5 3791147.5, 395153.5 3791148.5, 395148.5 3791148.5, 395147.5 3791147.5, 395143.5 3791147.5, 395142.5 3791148.5, 395138.5 3791148.5, 395137.5 3791149.5, 395135.5 3791149.5, 395134.5 3791148.5, 395127.5 3791148.5, 395125.5 3791150.5, 395125.5 3791152.5, 395123.5 3791154.5, 395108.5 3791154.5, 395106.5 3791152.5, 395104.5 3791152.5, 395100.5 3791156.5, 395100.5 3791159.5, 395099.5 3791160.5, 395097.5 3791160.5, 395095.5 3791158.5, 395094.5 3791158.5, 395093.5 3791159.5, 395089.5 3791159.5, 395088.5 3791158.5, 395083.5 3791158.5, 395082.5 3791157.5, 395080.5 3791157.5, 395079.5 3791156.5, 395076.5 3791156.5, 395075.5 3791155.5, 395074.5 3791155.5, 395073.5 3791154.5, 395069.5 3791154.5, 395068.5 3791153.5, 395067.5 3791153.5, 395066.5 3791152.5, 395065.5 3791152.5, 395062.5 3791149.5, 395062.5 3791148.5, 395059.5 3791145.5, 395058.5 3791145.5, 395054.5 3791141.5, 395054.5 3791140.5, 395053.5 3791140.5, 395053.5 3791139.5, 395050.5 3791136.5, 395050.5 3791135.5, 395049.5 3791134.5, 395049.5 3791133.5, 395047.5 3791131.5, 395047.5 3791129.5, 395046.5 3791128.5, 395046.5 3791126.5, 395045.5 3791125.5, 395045.5 3791124.5, 395044.5 3791123.5, 395045.5 3791122.5, 395045.5 3791121.5, 395044.5 3791120.5, 395045.5 3791119.5, 395045.5 3791118.5, 395044.5 3791117.5, 395044.5 3791115.5, 395047.5 3791112.5, 395047.5 3791107.5, 395046.5 3791106.5, 395046.5 3791103.5, 395047.5 3791102.5, 395047.5 3791101.5, 395045.5 3791099.5, 395044.5 3791099.5, 395041.5 3791096.5, 395041.5 3791095.5, 395042.5 3791094.5, 395042.5 3791091.5, 395032.5 3791081.5, 395031.5 3791081.5, 395030.5 3791080.5)\n",
      "3.0 LINESTRING (394322.5 3791032.5, 394322.5 3791029.5, 394320.5 3791027.5, 394320.5 3791026.5, 394318.5 3791024.5, 394318.5 3791023.5, 394317.5 3791022.5, 394317.5 3791018.5, 394316.5 3791017.5, 394316.5 3791014.5, 394315.5 3791013.5, 394315.5 3791011.5, 394314.5 3791010.5, 394314.5 3791009.5, 394315.5 3791008.5, 394315.5 3791007.5, 394318.5 3791004.5, 394318.5 3791003.5, 394319.5 3791002.5, 394319.5 3790999.5, 394320.5 3790998.5, 394320.5 3790995.5, 394321.5 3790994.5, 394321.5 3790993.5, 394322.5 3790992.5, 394322.5 3790990.5, 394320.5 3790988.5, 394320.5 3790983.5, 394321.5 3790982.5, 394321.5 3790981.5, 394322.5 3790980.5, 394322.5 3790978.5, 394325.5 3790975.5, 394326.5 3790975.5, 394328.5 3790973.5, 394329.5 3790973.5, 394330.5 3790972.5, 394340.5 3790972.5, 394341.5 3790971.5, 394343.5 3790971.5, 394346.5 3790968.5, 394346.5 3790967.5, 394349.5 3790964.5, 394349.5 3790963.5, 394350.5 3790962.5, 394350.5 3790961.5, 394355.5 3790956.5, 394355.5 3790955.5, 394356.5 3790954.5, 394356.5 3790953.5, 394357.5 3790952.5, 394357.5 3790951.5, 394358.5 3790950.5, 394358.5 3790949.5, 394362.5 3790945.5, 394362.5 3790944.5, 394366.5 3790940.5, 394366.5 3790938.5, 394367.5 3790937.5, 394367.5 3790936.5, 394366.5 3790935.5, 394366.5 3790933.5, 394365.5 3790932.5, 394365.5 3790931.5, 394364.5 3790930.5, 394364.5 3790929.5, 394363.5 3790928.5, 394363.5 3790927.5, 394362.5 3790926.5, 394362.5 3790924.5, 394361.5 3790923.5, 394361.5 3790922.5, 394356.5 3790917.5, 394356.5 3790916.5, 394350.5 3790910.5, 394348.5 3790910.5, 394347.5 3790909.5, 394345.5 3790909.5, 394344.5 3790910.5, 394340.5 3790910.5, 394339.5 3790911.5, 394332.5 3790911.5, 394331.5 3790910.5, 394330.5 3790910.5, 394329.5 3790909.5, 394328.5 3790909.5, 394324.5 3790905.5, 394324.5 3790900.5, 394325.5 3790899.5, 394325.5 3790892.5, 394326.5 3790891.5, 394326.5 3790887.5, 394327.5 3790886.5, 394327.5 3790881.5, 394328.5 3790880.5, 394328.5 3790874.5, 394327.5 3790873.5, 394327.5 3790871.5, 394326.5 3790870.5, 394326.5 3790865.5, 394325.5 3790864.5, 394325.5 3790860.5, 394324.5 3790859.5, 394324.5 3790858.5, 394323.5 3790857.5, 394323.5 3790851.5, 394319.5 3790847.5, 394319.5 3790843.5, 394318.5 3790842.5, 394318.5 3790841.5, 394317.5 3790840.5, 394317.5 3790835.5, 394318.5 3790834.5, 394318.5 3790832.5, 394319.5 3790831.5, 394319.5 3790828.5, 394314.5 3790823.5, 394313.5 3790823.5, 394306.5 3790816.5, 394306.5 3790813.5, 394304.5 3790811.5)\n",
      "4.0 LINESTRING (395096.5 3791023.5, 395096.5 3791026.5, 395095.5 3791027.5, 395095.5 3791036.5, 395089.5 3791042.5, 395088.5 3791042.5, 395082.5 3791048.5, 395080.5 3791048.5, 395079.5 3791049.5, 395076.5 3791049.5, 395075.5 3791050.5, 395061.5 3791050.5, 395060.5 3791051.5, 395057.5 3791051.5, 395056.5 3791052.5, 395055.5 3791052.5, 395054.5 3791053.5, 395052.5 3791053.5, 395046.5 3791059.5, 395045.5 3791059.5, 395039.5 3791065.5, 395039.5 3791066.5, 395033.5 3791072.5, 395033.5 3791075.5, 395031.5 3791077.5, 395031.5 3791078.5, 395030.5 3791079.5, 395030.5 3791080.5)\n",
      "5.0 LINESTRING (394657.5 3790993.5, 394654.5 3790990.5, 394654.5 3790988.5, 394653.5 3790987.5, 394653.5 3790986.5, 394651.5 3790984.5, 394651.5 3790981.5, 394650.5 3790980.5, 394650.5 3790979.5, 394646.5 3790975.5, 394646.5 3790974.5, 394644.5 3790972.5, 394644.5 3790971.5, 394643.5 3790970.5, 394643.5 3790969.5, 394639.5 3790965.5, 394638.5 3790965.5, 394638.5 3790964.5, 394631.5 3790957.5)\n",
      "6.0 LINESTRING (394902.5 3790597.5, 394902.5 3790596.5, 394900.5 3790594.5, 394900.5 3790593.5, 394897.5 3790590.5, 394897.5 3790589.5, 394895.5 3790587.5, 394895.5 3790586.5, 394891.5 3790582.5, 394891.5 3790581.5, 394889.5 3790579.5, 394889.5 3790577.5, 394887.5 3790575.5, 394887.5 3790574.5, 394881.5 3790568.5, 394879.5 3790568.5, 394879.5 3790563.5, 394877.5 3790561.5, 394870.5 3790561.5, 394868.5 3790559.5, 394865.5 3790559.5, 394863.5 3790557.5, 394862.5 3790557.5, 394861.5 3790556.5, 394861.5 3790555.5, 394855.5 3790549.5, 394855.5 3790548.5, 394853.5 3790546.5, 394852.5 3790546.5, 394851.5 3790545.5, 394850.5 3790545.5, 394849.5 3790544.5, 394846.5 3790544.5, 394845.5 3790545.5, 394841.5 3790545.5, 394839.5 3790543.5, 394836.5 3790543.5, 394834.5 3790541.5, 394827.5 3790541.5, 394826.5 3790542.5, 394825.5 3790542.5, 394824.5 3790541.5, 394822.5 3790541.5, 394821.5 3790540.5, 394810.5 3790540.5, 394809.5 3790541.5, 394808.5 3790541.5, 394807.5 3790542.5, 394806.5 3790542.5, 394804.5 3790544.5, 394803.5 3790544.5, 394797.5 3790550.5, 394796.5 3790550.5, 394792.5 3790554.5, 394792.5 3790555.5, 394790.5 3790557.5, 394789.5 3790557.5, 394788.5 3790558.5, 394770.5 3790558.5, 394763.5 3790551.5, 394763.5 3790550.5, 394762.5 3790550.5, 394760.5 3790548.5, 394759.5 3790548.5, 394758.5 3790547.5, 394756.5 3790547.5, 394755.5 3790548.5, 394752.5 3790548.5, 394751.5 3790547.5, 394746.5 3790547.5, 394745.5 3790546.5, 394743.5 3790546.5, 394742.5 3790545.5, 394741.5 3790545.5, 394740.5 3790544.5, 394739.5 3790544.5, 394734.5 3790539.5, 394730.5 3790539.5, 394726.5 3790535.5, 394725.5 3790535.5, 394723.5 3790533.5, 394722.5 3790533.5, 394721.5 3790532.5, 394717.5 3790532.5, 394716.5 3790531.5, 394714.5 3790531.5, 394713.5 3790530.5, 394709.5 3790530.5, 394708.5 3790529.5, 394707.5 3790529.5, 394706.5 3790528.5, 394704.5 3790528.5, 394698.5 3790522.5, 394698.5 3790521.5, 394690.5 3790513.5, 394688.5 3790513.5, 394686.5 3790511.5, 394685.5 3790511.5, 394683.5 3790509.5, 394681.5 3790509.5, 394680.5 3790508.5, 394678.5 3790508.5, 394677.5 3790507.5, 394675.5 3790507.5, 394674.5 3790506.5, 394673.5 3790506.5, 394672.5 3790505.5, 394671.5 3790505.5, 394670.5 3790504.5, 394669.5 3790504.5, 394667.5 3790502.5, 394665.5 3790502.5, 394659.5 3790496.5, 394656.5 3790496.5, 394653.5 3790493.5, 394652.5 3790493.5, 394648.5 3790489.5, 394647.5 3790489.5, 394646.5 3790488.5, 394645.5 3790488.5, 394643.5 3790486.5, 394642.5 3790486.5, 394641.5 3790485.5, 394640.5 3790485.5, 394631.5 3790476.5, 394631.5 3790475.5, 394626.5 3790470.5, 394624.5 3790470.5, 394617.5 3790463.5, 394614.5 3790463.5, 394613.5 3790462.5, 394611.5 3790462.5, 394610.5 3790461.5, 394607.5 3790461.5, 394606.5 3790460.5, 394602.5 3790460.5, 394601.5 3790459.5, 394600.5 3790459.5, 394599.5 3790458.5, 394598.5 3790458.5, 394592.5 3790452.5, 394592.5 3790451.5, 394591.5 3790450.5, 394591.5 3790449.5, 394589.5 3790447.5, 394589.5 3790446.5, 394588.5 3790445.5, 394588.5 3790444.5, 394585.5 3790441.5, 394585.5 3790440.5, 394584.5 3790439.5, 394584.5 3790437.5, 394582.5 3790435.5, 394582.5 3790434.5, 394581.5 3790433.5, 394581.5 3790432.5, 394580.5 3790431.5, 394580.5 3790429.5, 394578.5 3790427.5, 394578.5 3790424.5, 394569.5 3790415.5, 394566.5 3790415.5, 394565.5 3790414.5, 394562.5 3790414.5, 394542.5 3790394.5, 394536.5 3790394.5)\n",
      "7.0 LINESTRING (394514.5 3790355.5, 394514.5 3790359.5, 394516.5 3790361.5, 394516.5 3790362.5, 394518.5 3790364.5, 394518.5 3790365.5, 394522.5 3790369.5, 394523.5 3790369.5, 394524.5 3790368.5, 394526.5 3790368.5, 394528.5 3790370.5, 394529.5 3790370.5, 394529.5 3790371.5, 394531.5 3790373.5, 394532.5 3790373.5, 394533.5 3790374.5, 394533.5 3790375.5, 394537.5 3790379.5, 394537.5 3790393.5, 394536.5 3790394.5)\n",
      "9.0 LINESTRING (394536.5 3790394.5, 394536.5 3790395.5, 394534.5 3790397.5, 394534.5 3790398.5, 394533.5 3790399.5, 394533.5 3790400.5, 394530.5 3790403.5, 394530.5 3790404.5, 394527.5 3790407.5, 394526.5 3790407.5, 394523.5 3790410.5, 394519.5 3790410.5, 394518.5 3790411.5, 394517.5 3790411.5, 394516.5 3790412.5, 394515.5 3790412.5, 394515.5 3790414.5, 394510.5 3790419.5, 394510.5 3790420.5, 394506.5 3790424.5, 394505.5 3790424.5, 394501.5 3790428.5, 394499.5 3790428.5, 394498.5 3790429.5, 394497.5 3790429.5, 394492.5 3790434.5, 394492.5 3790435.5, 394491.5 3790436.5, 394491.5 3790437.5, 394488.5 3790440.5, 394488.5 3790447.5, 394486.5 3790449.5, 394485.5 3790449.5, 394483.5 3790451.5, 394482.5 3790451.5, 394480.5 3790453.5, 394479.5 3790453.5, 394478.5 3790454.5, 394475.5 3790454.5, 394475.5 3790455.5, 394473.5 3790457.5, 394470.5 3790457.5, 394469.5 3790456.5, 394460.5 3790456.5, 394459.5 3790457.5, 394451.5 3790457.5, 394450.5 3790456.5, 394440.5 3790456.5, 394437.5 3790453.5, 394436.5 3790453.5, 394435.5 3790452.5, 394434.5 3790452.5, 394432.5 3790454.5, 394430.5 3790454.5, 394429.5 3790453.5, 394418.5 3790453.5, 394417.5 3790454.5, 394416.5 3790454.5, 394415.5 3790453.5, 394413.5 3790453.5, 394412.5 3790452.5, 394408.5 3790452.5, 394407.5 3790453.5, 394404.5 3790453.5, 394403.5 3790454.5, 394395.5 3790454.5, 394394.5 3790455.5, 394392.5 3790455.5, 394390.5 3790457.5, 394388.5 3790457.5, 394386.5 3790459.5, 394385.5 3790459.5, 394384.5 3790460.5, 394377.5 3790460.5, 394376.5 3790461.5, 394371.5 3790461.5, 394370.5 3790462.5, 394369.5 3790462.5, 394368.5 3790463.5, 394367.5 3790463.5, 394366.5 3790462.5, 394363.5 3790462.5, 394362.5 3790461.5, 394360.5 3790461.5, 394359.5 3790460.5, 394358.5 3790460.5, 394357.5 3790459.5, 394356.5 3790459.5, 394355.5 3790458.5, 394348.5 3790458.5, 394347.5 3790459.5, 394346.5 3790459.5, 394345.5 3790460.5, 394343.5 3790460.5, 394340.5 3790463.5, 394340.5 3790464.5, 394338.5 3790464.5, 394337.5 3790465.5, 394336.5 3790465.5, 394332.5 3790469.5, 394332.5 3790470.5, 394330.5 3790472.5, 394330.5 3790478.5, 394331.5 3790479.5, 394331.5 3790480.5, 394332.5 3790481.5, 394332.5 3790483.5, 394333.5 3790484.5, 394333.5 3790485.5, 394334.5 3790486.5, 394334.5 3790487.5, 394335.5 3790488.5, 394335.5 3790491.5, 394334.5 3790491.5, 394332.5 3790493.5, 394332.5 3790495.5, 394331.5 3790496.5, 394331.5 3790498.5, 394330.5 3790499.5, 394330.5 3790503.5, 394331.5 3790504.5, 394331.5 3790505.5, 394325.5 3790511.5, 394323.5 3790511.5, 394323.5 3790512.5, 394320.5 3790515.5, 394320.5 3790516.5, 394319.5 3790517.5, 394319.5 3790519.5, 394316.5 3790522.5, 394313.5 3790522.5, 394312.5 3790521.5, 394309.5 3790521.5, 394308.5 3790522.5, 394304.5 3790522.5, 394304.5 3790521.5, 394298.5 3790515.5, 394297.5 3790515.5, 394296.5 3790514.5, 394296.5 3790513.5, 394295.5 3790512.5, 394295.5 3790509.5, 394294.5 3790508.5, 394294.5 3790507.5, 394293.5 3790506.5, 394293.5 3790500.5, 394292.5 3790499.5, 394291.5 3790499.5, 394291.5 3790497.5, 394292.5 3790496.5, 394292.5 3790494.5, 394291.5 3790493.5, 394291.5 3790490.5, 394289.5 3790488.5, 394289.5 3790487.5, 394288.5 3790486.5, 394288.5 3790485.5, 394287.5 3790484.5, 394283.5 3790484.5, 394282.5 3790485.5, 394281.5 3790485.5, 394280.5 3790486.5, 394279.5 3790486.5, 394277.5 3790488.5, 394276.5 3790488.5, 394275.5 3790489.5, 394275.5 3790490.5, 394274.5 3790491.5, 394273.5 3790491.5, 394272.5 3790492.5, 394270.5 3790492.5, 394267.5 3790495.5, 394266.5 3790495.5, 394265.5 3790496.5, 394264.5 3790496.5, 394260.5 3790500.5, 394259.5 3790500.5, 394258.5 3790501.5, 394257.5 3790501.5, 394254.5 3790504.5, 394250.5 3790504.5, 394249.5 3790505.5, 394248.5 3790504.5, 394247.5 3790504.5, 394246.5 3790505.5, 394243.5 3790505.5, 394241.5 3790507.5, 394240.5 3790507.5, 394239.5 3790508.5, 394238.5 3790508.5, 394232.5 3790514.5, 394230.5 3790514.5, 394229.5 3790515.5, 394228.5 3790514.5, 394219.5 3790514.5, 394217.5 3790512.5, 394217.5 3790511.5, 394214.5 3790508.5, 394213.5 3790508.5, 394206.5 3790501.5, 394206.5 3790500.5, 394204.5 3790498.5, 394204.5 3790495.5, 394203.5 3790494.5, 394203.5 3790493.5, 394202.5 3790492.5, 394202.5 3790491.5, 394200.5 3790489.5, 394200.5 3790488.5, 394198.5 3790486.5, 394197.5 3790486.5, 394194.5 3790483.5, 394193.5 3790483.5, 394192.5 3790482.5, 394191.5 3790482.5, 394190.5 3790481.5, 394187.5 3790481.5, 394186.5 3790482.5, 394181.5 3790482.5, 394180.5 3790483.5, 394180.5 3790489.5, 394179.5 3790490.5, 394179.5 3790496.5, 394178.5 3790497.5, 394178.5 3790501.5, 394174.5 3790505.5, 394174.5 3790517.5, 394172.5 3790519.5, 394172.5 3790527.5, 394171.5 3790528.5, 394171.5 3790529.5, 394169.5 3790531.5, 394169.5 3790532.5, 394168.5 3790533.5, 394166.5 3790533.5, 394166.5 3790536.5, 394165.5 3790536.5, 394163.5 3790538.5, 394163.5 3790539.5, 394162.5 3790540.5, 394162.5 3790541.5, 394160.5 3790543.5, 394160.5 3790550.5, 394159.5 3790551.5, 394159.5 3790552.5, 394158.5 3790553.5, 394158.5 3790554.5, 394157.5 3790554.5, 394154.5 3790557.5, 394154.5 3790558.5, 394152.5 3790558.5, 394150.5 3790560.5, 394148.5 3790560.5, 394145.5 3790563.5, 394144.5 3790563.5, 394136.5 3790571.5, 394135.5 3790571.5, 394134.5 3790570.5, 394129.5 3790570.5)\n",
      "10.0 LINESTRING (394129.5 3790570.5, 394128.5 3790569.5, 394128.5 3790568.5, 394127.5 3790567.5, 394127.5 3790566.5, 394124.5 3790563.5, 394124.5 3790561.5, 394123.5 3790560.5, 394123.5 3790559.5, 394114.5 3790550.5, 394113.5 3790550.5, 394112.5 3790549.5, 394111.5 3790549.5, 394108.5 3790546.5, 394108.5 3790545.5, 394105.5 3790542.5, 394105.5 3790541.5, 394104.5 3790540.5, 394103.5 3790540.5, 394098.5 3790535.5, 394098.5 3790534.5, 394092.5 3790528.5, 394091.5 3790528.5, 394090.5 3790527.5, 394090.5 3790524.5, 394087.5 3790521.5, 394085.5 3790521.5, 394084.5 3790520.5, 394084.5 3790518.5, 394082.5 3790516.5, 394082.5 3790513.5, 394081.5 3790512.5, 394081.5 3790511.5, 394079.5 3790509.5, 394078.5 3790509.5, 394077.5 3790508.5, 394076.5 3790508.5, 394075.5 3790507.5, 394075.5 3790506.5, 394074.5 3790505.5, 394074.5 3790504.5, 394073.5 3790503.5, 394073.5 3790502.5, 394072.5 3790501.5, 394072.5 3790500.5, 394070.5 3790498.5, 394070.5 3790497.5, 394066.5 3790493.5, 394063.5 3790493.5, 394062.5 3790492.5, 394062.5 3790490.5, 394059.5 3790487.5, 394059.5 3790486.5, 394058.5 3790485.5, 394058.5 3790477.5, 394059.5 3790476.5, 394059.5 3790469.5, 394060.5 3790468.5, 394060.5 3790466.5, 394061.5 3790465.5, 394061.5 3790464.5, 394062.5 3790463.5, 394062.5 3790449.5, 394061.5 3790448.5, 394061.5 3790447.5, 394059.5 3790445.5, 394059.5 3790441.5, 394058.5 3790440.5, 394057.5 3790440.5, 394057.5 3790439.5, 394055.5 3790439.5, 394049.5 3790433.5, 394048.5 3790433.5, 394047.5 3790432.5, 394042.5 3790432.5, 394041.5 3790433.5, 394038.5 3790433.5, 394036.5 3790435.5, 394033.5 3790435.5, 394030.5 3790438.5, 394029.5 3790438.5, 394028.5 3790439.5, 394027.5 3790439.5, 394024.5 3790442.5, 394023.5 3790442.5, 394020.5 3790445.5, 394016.5 3790445.5, 394015.5 3790444.5, 394008.5 3790444.5, 394007.5 3790443.5, 393992.5 3790443.5, 393991.5 3790442.5, 393972.5 3790442.5, 393971.5 3790441.5, 393968.5 3790441.5, 393967.5 3790440.5, 393965.5 3790440.5, 393964.5 3790439.5, 393962.5 3790439.5, 393961.5 3790438.5, 393959.5 3790438.5, 393958.5 3790437.5, 393957.5 3790437.5, 393956.5 3790436.5, 393955.5 3790436.5, 393954.5 3790435.5, 393952.5 3790435.5, 393951.5 3790434.5, 393950.5 3790434.5, 393949.5 3790433.5, 393948.5 3790433.5, 393944.5 3790429.5, 393943.5 3790429.5, 393942.5 3790428.5, 393942.5 3790427.5, 393939.5 3790424.5, 393938.5 3790424.5, 393937.5 3790423.5, 393936.5 3790423.5, 393935.5 3790422.5, 393933.5 3790422.5, 393932.5 3790421.5, 393932.5 3790415.5, 393931.5 3790414.5, 393931.5 3790413.5, 393926.5 3790408.5, 393926.5 3790406.5, 393924.5 3790404.5, 393924.5 3790402.5, 393923.5 3790401.5, 393923.5 3790398.5, 393920.5 3790395.5, 393920.5 3790394.5, 393921.5 3790393.5, 393921.5 3790392.5, 393920.5 3790392.5, 393918.5 3790390.5, 393918.5 3790386.5, 393917.5 3790385.5, 393917.5 3790384.5, 393916.5 3790383.5, 393916.5 3790381.5, 393915.5 3790380.5, 393915.5 3790371.5, 393914.5 3790370.5, 393914.5 3790369.5, 393913.5 3790368.5, 393913.5 3790366.5, 393912.5 3790365.5, 393912.5 3790364.5, 393910.5 3790362.5, 393910.5 3790359.5, 393909.5 3790358.5, 393909.5 3790357.5, 393905.5 3790353.5, 393904.5 3790353.5, 393902.5 3790351.5, 393899.5 3790351.5, 393898.5 3790350.5, 393896.5 3790350.5, 393895.5 3790349.5, 393892.5 3790349.5, 393891.5 3790348.5, 393890.5 3790348.5, 393889.5 3790347.5, 393883.5 3790347.5, 393880.5 3790350.5, 393876.5 3790350.5, 393875.5 3790351.5, 393868.5 3790351.5, 393867.5 3790352.5, 393866.5 3790352.5, 393865.5 3790353.5, 393863.5 3790353.5, 393862.5 3790354.5, 393857.5 3790354.5, 393855.5 3790356.5, 393847.5 3790356.5, 393845.5 3790358.5, 393844.5 3790358.5, 393843.5 3790359.5, 393839.5 3790359.5, 393837.5 3790361.5, 393836.5 3790361.5, 393834.5 3790363.5, 393832.5 3790363.5, 393831.5 3790364.5, 393830.5 3790364.5, 393827.5 3790367.5, 393827.5 3790368.5, 393825.5 3790370.5, 393822.5 3790370.5, 393819.5 3790373.5, 393818.5 3790373.5, 393817.5 3790374.5, 393815.5 3790374.5, 393813.5 3790376.5, 393811.5 3790376.5, 393810.5 3790377.5, 393809.5 3790377.5, 393807.5 3790379.5, 393806.5 3790379.5, 393806.5 3790380.5, 393805.5 3790380.5, 393804.5 3790381.5, 393800.5 3790381.5, 393797.5 3790384.5, 393796.5 3790384.5, 393795.5 3790385.5, 393793.5 3790385.5, 393792.5 3790386.5, 393790.5 3790386.5, 393787.5 3790389.5, 393785.5 3790389.5, 393784.5 3790390.5, 393783.5 3790390.5, 393782.5 3790391.5, 393781.5 3790391.5, 393780.5 3790392.5, 393772.5 3790392.5, 393771.5 3790393.5, 393769.5 3790393.5, 393764.5 3790398.5, 393763.5 3790398.5, 393752.5 3790409.5, 393752.5 3790413.5, 393751.5 3790414.5, 393751.5 3790421.5, 393752.5 3790422.5, 393752.5 3790442.5, 393750.5 3790444.5, 393750.5 3790448.5, 393749.5 3790449.5, 393749.5 3790450.5, 393748.5 3790450.5, 393747.5 3790451.5, 393746.5 3790451.5, 393743.5 3790454.5, 393742.5 3790454.5, 393737.5 3790459.5, 393736.5 3790459.5, 393735.5 3790460.5, 393734.5 3790460.5, 393733.5 3790461.5, 393732.5 3790461.5, 393728.5 3790465.5, 393727.5 3790465.5, 393726.5 3790466.5, 393725.5 3790466.5, 393722.5 3790469.5, 393721.5 3790469.5, 393720.5 3790470.5, 393718.5 3790470.5, 393716.5 3790472.5, 393714.5 3790472.5, 393713.5 3790473.5, 393712.5 3790473.5, 393711.5 3790474.5, 393710.5 3790474.5, 393708.5 3790476.5, 393706.5 3790476.5, 393703.5 3790479.5, 393702.5 3790479.5, 393698.5 3790483.5, 393698.5 3790484.5, 393696.5 3790486.5, 393696.5 3790487.5, 393693.5 3790490.5, 393693.5 3790491.5, 393690.5 3790494.5, 393690.5 3790495.5, 393689.5 3790496.5, 393689.5 3790497.5, 393688.5 3790497.5, 393687.5 3790498.5, 393687.5 3790502.5, 393686.5 3790503.5, 393686.5 3790506.5, 393685.5 3790507.5, 393685.5 3790508.5, 393684.5 3790509.5, 393684.5 3790510.5, 393683.5 3790511.5, 393683.5 3790531.5, 393682.5 3790532.5, 393682.5 3790534.5, 393681.5 3790535.5, 393681.5 3790537.5, 393680.5 3790538.5, 393681.5 3790539.5, 393681.5 3790541.5, 393680.5 3790542.5, 393680.5 3790544.5, 393679.5 3790545.5, 393679.5 3790547.5, 393678.5 3790548.5, 393678.5 3790551.5, 393677.5 3790552.5, 393677.5 3790553.5, 393676.5 3790554.5, 393676.5 3790558.5, 393675.5 3790559.5, 393675.5 3790562.5, 393674.5 3790563.5, 393674.5 3790566.5, 393673.5 3790567.5, 393673.5 3790568.5, 393672.5 3790569.5, 393672.5 3790577.5, 393673.5 3790578.5, 393673.5 3790581.5, 393674.5 3790582.5, 393674.5 3790583.5, 393675.5 3790584.5, 393675.5 3790586.5, 393678.5 3790589.5, 393678.5 3790590.5, 393683.5 3790595.5, 393684.5 3790595.5, 393685.5 3790596.5, 393686.5 3790596.5, 393689.5 3790599.5, 393690.5 3790599.5, 393691.5 3790600.5, 393692.5 3790600.5, 393692.5 3790601.5, 393697.5 3790606.5, 393697.5 3790608.5, 393698.5 3790609.5, 393698.5 3790610.5, 393699.5 3790611.5, 393699.5 3790612.5, 393703.5 3790616.5, 393705.5 3790616.5, 393708.5 3790619.5, 393708.5 3790620.5, 393709.5 3790621.5, 393709.5 3790622.5, 393710.5 3790622.5, 393712.5 3790624.5, 393713.5 3790624.5, 393714.5 3790625.5, 393715.5 3790625.5, 393717.5 3790627.5, 393717.5 3790629.5, 393719.5 3790631.5, 393719.5 3790633.5, 393724.5 3790638.5, 393724.5 3790640.5, 393725.5 3790641.5, 393726.5 3790641.5, 393729.5 3790644.5, 393729.5 3790645.5, 393731.5 3790647.5, 393731.5 3790648.5, 393732.5 3790649.5, 393733.5 3790649.5, 393734.5 3790650.5, 393736.5 3790650.5, 393738.5 3790652.5, 393738.5 3790654.5, 393744.5 3790660.5, 393744.5 3790662.5, 393745.5 3790663.5, 393745.5 3790664.5, 393743.5 3790666.5, 393741.5 3790666.5, 393740.5 3790667.5, 393736.5 3790667.5, 393735.5 3790668.5, 393734.5 3790668.5, 393733.5 3790669.5, 393726.5 3790669.5, 393725.5 3790670.5, 393724.5 3790669.5, 393718.5 3790669.5, 393717.5 3790668.5, 393716.5 3790668.5, 393715.5 3790669.5, 393710.5 3790669.5, 393709.5 3790668.5, 393708.5 3790669.5, 393700.5 3790669.5, 393699.5 3790670.5, 393697.5 3790670.5, 393696.5 3790669.5, 393693.5 3790669.5, 393692.5 3790670.5, 393679.5 3790670.5, 393678.5 3790671.5, 393674.5 3790671.5, 393673.5 3790670.5, 393669.5 3790670.5, 393668.5 3790671.5, 393667.5 3790671.5, 393666.5 3790672.5, 393656.5 3790672.5, 393655.5 3790673.5, 393653.5 3790673.5, 393652.5 3790674.5, 393651.5 3790674.5, 393650.5 3790675.5, 393647.5 3790675.5, 393646.5 3790676.5, 393645.5 3790676.5, 393644.5 3790677.5, 393643.5 3790677.5, 393641.5 3790679.5, 393638.5 3790679.5, 393637.5 3790680.5, 393637.5 3790681.5, 393634.5 3790684.5, 393634.5 3790685.5, 393633.5 3790686.5, 393633.5 3790687.5, 393631.5 3790689.5, 393631.5 3790692.5, 393630.5 3790693.5, 393630.5 3790699.5, 393629.5 3790700.5, 393629.5 3790701.5, 393628.5 3790702.5, 393628.5 3790708.5, 393627.5 3790709.5, 393627.5 3790710.5, 393626.5 3790711.5, 393626.5 3790715.5, 393627.5 3790716.5, 393627.5 3790723.5, 393626.5 3790724.5, 393626.5 3790727.5, 393627.5 3790728.5, 393627.5 3790737.5, 393626.5 3790738.5, 393625.5 3790738.5, 393625.5 3790739.5)\n",
      "11.0 LINESTRING (394631.5 3790957.5, 394630.5 3790958.5, 394624.5 3790958.5, 394623.5 3790957.5, 394620.5 3790957.5, 394619.5 3790956.5, 394618.5 3790956.5, 394618.5 3790955.5, 394617.5 3790954.5, 394617.5 3790953.5, 394611.5 3790947.5, 394611.5 3790946.5, 394610.5 3790945.5, 394606.5 3790945.5, 394604.5 3790947.5, 394603.5 3790947.5, 394602.5 3790948.5, 394601.5 3790948.5, 394599.5 3790946.5, 394598.5 3790946.5, 394597.5 3790945.5, 394595.5 3790945.5, 394594.5 3790944.5, 394592.5 3790944.5, 394584.5 3790952.5, 394581.5 3790952.5, 394580.5 3790951.5, 394577.5 3790951.5, 394576.5 3790950.5, 394574.5 3790950.5, 394573.5 3790949.5, 394572.5 3790949.5, 394571.5 3790950.5, 394564.5 3790950.5, 394563.5 3790949.5, 394561.5 3790949.5, 394560.5 3790948.5, 394555.5 3790948.5, 394554.5 3790947.5, 394552.5 3790947.5, 394550.5 3790945.5, 394550.5 3790944.5, 394549.5 3790943.5, 394549.5 3790939.5, 394548.5 3790938.5, 394548.5 3790937.5, 394547.5 3790936.5, 394547.5 3790929.5, 394546.5 3790928.5, 394546.5 3790927.5, 394547.5 3790926.5, 394547.5 3790925.5, 394544.5 3790922.5, 394541.5 3790922.5, 394539.5 3790920.5, 394539.5 3790917.5, 394538.5 3790917.5, 394537.5 3790916.5, 394536.5 3790916.5, 394535.5 3790915.5, 394534.5 3790915.5, 394533.5 3790914.5, 394526.5 3790914.5, 394524.5 3790916.5, 394524.5 3790917.5, 394523.5 3790918.5, 394522.5 3790918.5, 394519.5 3790921.5, 394518.5 3790921.5, 394517.5 3790922.5, 394513.5 3790922.5, 394509.5 3790926.5, 394506.5 3790926.5, 394505.5 3790927.5, 394502.5 3790927.5, 394501.5 3790928.5, 394500.5 3790927.5, 394496.5 3790927.5, 394494.5 3790925.5, 394492.5 3790925.5, 394491.5 3790926.5, 394488.5 3790926.5, 394483.5 3790921.5, 394482.5 3790921.5, 394482.5 3790920.5, 394480.5 3790918.5, 394480.5 3790916.5, 394478.5 3790914.5, 394477.5 3790914.5, 394475.5 3790912.5, 394474.5 3790912.5, 394474.5 3790909.5, 394475.5 3790908.5, 394475.5 3790907.5, 394476.5 3790906.5, 394475.5 3790905.5, 394475.5 3790896.5, 394474.5 3790895.5, 394474.5 3790893.5, 394470.5 3790889.5, 394470.5 3790888.5, 394468.5 3790886.5, 394468.5 3790884.5, 394469.5 3790883.5, 394469.5 3790882.5, 394471.5 3790880.5, 394471.5 3790879.5, 394473.5 3790877.5, 394473.5 3790875.5, 394474.5 3790874.5, 394474.5 3790872.5, 394475.5 3790871.5, 394475.5 3790870.5, 394476.5 3790869.5, 394476.5 3790867.5, 394478.5 3790865.5, 394478.5 3790862.5, 394482.5 3790858.5, 394482.5 3790851.5, 394481.5 3790850.5, 394481.5 3790849.5, 394478.5 3790846.5, 394477.5 3790846.5, 394476.5 3790845.5, 394474.5 3790845.5, 394473.5 3790844.5, 394469.5 3790844.5, 394468.5 3790843.5, 394460.5 3790843.5, 394459.5 3790844.5, 394437.5 3790844.5, 394436.5 3790845.5, 394433.5 3790845.5, 394431.5 3790847.5, 394430.5 3790847.5, 394429.5 3790848.5, 394428.5 3790848.5, 394427.5 3790849.5, 394421.5 3790849.5, 394416.5 3790844.5, 394415.5 3790844.5, 394412.5 3790841.5, 394411.5 3790841.5, 394411.5 3790829.5, 394410.5 3790828.5, 394410.5 3790827.5, 394409.5 3790826.5, 394409.5 3790825.5, 394406.5 3790822.5, 394405.5 3790823.5, 394403.5 3790823.5, 394399.5 3790827.5, 394398.5 3790827.5, 394397.5 3790828.5, 394396.5 3790828.5, 394395.5 3790829.5, 394388.5 3790829.5, 394385.5 3790832.5, 394380.5 3790832.5, 394377.5 3790835.5, 394377.5 3790836.5, 394376.5 3790836.5, 394374.5 3790838.5, 394373.5 3790838.5, 394371.5 3790840.5, 394368.5 3790840.5, 394364.5 3790844.5, 394362.5 3790844.5, 394361.5 3790843.5, 394358.5 3790843.5, 394357.5 3790842.5, 394355.5 3790842.5, 394353.5 3790840.5, 394352.5 3790840.5, 394351.5 3790839.5, 394350.5 3790839.5, 394347.5 3790836.5, 394346.5 3790836.5, 394346.5 3790835.5, 394344.5 3790835.5, 394343.5 3790834.5, 394341.5 3790834.5, 394339.5 3790832.5, 394338.5 3790832.5, 394337.5 3790831.5, 394328.5 3790831.5, 394325.5 3790828.5, 394325.5 3790826.5, 394326.5 3790825.5, 394326.5 3790822.5, 394320.5 3790816.5, 394319.5 3790816.5, 394318.5 3790815.5, 394317.5 3790815.5, 394316.5 3790814.5, 394315.5 3790814.5, 394314.5 3790813.5, 394312.5 3790813.5, 394311.5 3790812.5, 394309.5 3790812.5, 394308.5 3790811.5, 394304.5 3790811.5)\n",
      "12.0 LINESTRING (395030.5 3791080.5, 395029.5 3791081.5, 395027.5 3791081.5, 395026.5 3791082.5, 395024.5 3791082.5, 395023.5 3791081.5, 395018.5 3791081.5, 395017.5 3791082.5, 395016.5 3791082.5, 395015.5 3791083.5, 395014.5 3791083.5, 395013.5 3791084.5, 395008.5 3791084.5, 395007.5 3791085.5, 395006.5 3791085.5, 395005.5 3791086.5, 395001.5 3791086.5, 395001.5 3791087.5, 394998.5 3791087.5, 394997.5 3791086.5, 394993.5 3791086.5, 394992.5 3791085.5, 394987.5 3791085.5, 394982.5 3791080.5, 394980.5 3791080.5, 394978.5 3791078.5, 394976.5 3791078.5, 394974.5 3791080.5, 394968.5 3791080.5, 394967.5 3791081.5, 394966.5 3791081.5, 394965.5 3791080.5, 394964.5 3791080.5, 394963.5 3791079.5, 394956.5 3791079.5, 394955.5 3791080.5, 394954.5 3791080.5, 394949.5 3791085.5, 394949.5 3791086.5, 394946.5 3791086.5, 394945.5 3791085.5, 394943.5 3791085.5, 394942.5 3791084.5, 394941.5 3791084.5, 394937.5 3791080.5, 394934.5 3791080.5, 394933.5 3791079.5, 394931.5 3791079.5, 394930.5 3791078.5, 394925.5 3791078.5, 394924.5 3791079.5, 394922.5 3791079.5, 394920.5 3791081.5, 394916.5 3791081.5, 394913.5 3791084.5, 394913.5 3791085.5, 394912.5 3791086.5, 394912.5 3791087.5, 394910.5 3791089.5, 394910.5 3791090.5, 394908.5 3791092.5, 394905.5 3791092.5, 394902.5 3791095.5, 394896.5 3791095.5, 394895.5 3791096.5, 394894.5 3791096.5, 394893.5 3791097.5, 394892.5 3791097.5, 394887.5 3791102.5, 394885.5 3791102.5, 394884.5 3791101.5, 394884.5 3791100.5, 394883.5 3791099.5, 394881.5 3791099.5, 394880.5 3791100.5, 394878.5 3791100.5, 394876.5 3791102.5, 394874.5 3791102.5, 394874.5 3791103.5, 394872.5 3791105.5, 394871.5 3791105.5, 394870.5 3791106.5, 394860.5 3791106.5, 394859.5 3791105.5, 394855.5 3791105.5, 394854.5 3791106.5, 394852.5 3791106.5, 394851.5 3791107.5, 394850.5 3791107.5, 394848.5 3791105.5, 394847.5 3791105.5, 394846.5 3791104.5, 394840.5 3791104.5, 394839.5 3791105.5, 394836.5 3791105.5, 394835.5 3791106.5, 394830.5 3791106.5, 394828.5 3791108.5, 394822.5 3791108.5, 394821.5 3791107.5, 394820.5 3791107.5, 394819.5 3791106.5, 394817.5 3791106.5, 394816.5 3791107.5, 394813.5 3791107.5, 394810.5 3791110.5, 394804.5 3791110.5, 394803.5 3791109.5, 394801.5 3791109.5, 394800.5 3791108.5, 394794.5 3791108.5, 394791.5 3791105.5, 394786.5 3791105.5, 394784.5 3791103.5, 394784.5 3791101.5, 394782.5 3791099.5, 394781.5 3791099.5, 394781.5 3791097.5, 394779.5 3791095.5, 394778.5 3791095.5, 394774.5 3791091.5, 394773.5 3791091.5, 394769.5 3791087.5, 394769.5 3791086.5, 394767.5 3791084.5, 394767.5 3791080.5, 394766.5 3791080.5, 394763.5 3791077.5, 394763.5 3791076.5, 394762.5 3791075.5, 394762.5 3791074.5, 394761.5 3791074.5, 394757.5 3791070.5, 394757.5 3791068.5, 394755.5 3791066.5, 394755.5 3791064.5, 394754.5 3791063.5, 394754.5 3791060.5, 394753.5 3791059.5, 394753.5 3791057.5, 394750.5 3791054.5, 394747.5 3791054.5, 394747.5 3791053.5, 394746.5 3791052.5, 394746.5 3791050.5, 394743.5 3791047.5, 394743.5 3791045.5, 394742.5 3791044.5, 394742.5 3791043.5, 394743.5 3791042.5, 394743.5 3791038.5, 394742.5 3791037.5, 394742.5 3791036.5, 394741.5 3791035.5, 394739.5 3791035.5, 394734.5 3791030.5, 394734.5 3791026.5, 394733.5 3791025.5, 394733.5 3791024.5, 394732.5 3791023.5, 394732.5 3791022.5, 394731.5 3791021.5, 394731.5 3791017.5, 394732.5 3791016.5, 394732.5 3791014.5, 394736.5 3791010.5, 394736.5 3791009.5, 394731.5 3791004.5, 394730.5 3791004.5, 394729.5 3791003.5, 394727.5 3791003.5, 394726.5 3791002.5, 394725.5 3791002.5, 394720.5 3790997.5, 394720.5 3790996.5, 394719.5 3790995.5, 394719.5 3790994.5, 394718.5 3790993.5, 394718.5 3790991.5, 394717.5 3790990.5, 394715.5 3790990.5, 394714.5 3790991.5, 394713.5 3790990.5, 394712.5 3790990.5, 394710.5 3790988.5, 394710.5 3790983.5, 394706.5 3790979.5, 394704.5 3790979.5, 394703.5 3790978.5, 394700.5 3790978.5, 394699.5 3790977.5, 394699.5 3790975.5, 394698.5 3790974.5, 394692.5 3790974.5, 394689.5 3790971.5, 394689.5 3790970.5, 394687.5 3790968.5, 394686.5 3790968.5, 394682.5 3790964.5, 394682.5 3790962.5, 394677.5 3790957.5, 394677.5 3790955.5, 394676.5 3790954.5, 394676.5 3790950.5, 394675.5 3790949.5, 394675.5 3790947.5, 394674.5 3790946.5, 394674.5 3790943.5, 394673.5 3790942.5, 394673.5 3790939.5, 394672.5 3790938.5, 394672.5 3790937.5, 394671.5 3790936.5, 394671.5 3790935.5, 394663.5 3790935.5, 394662.5 3790936.5, 394661.5 3790936.5, 394660.5 3790937.5, 394659.5 3790937.5, 394658.5 3790938.5, 394654.5 3790938.5, 394653.5 3790939.5, 394648.5 3790939.5, 394646.5 3790941.5, 394645.5 3790941.5, 394643.5 3790943.5, 394642.5 3790943.5, 394639.5 3790946.5, 394638.5 3790946.5, 394636.5 3790948.5, 394636.5 3790949.5, 394634.5 3790951.5, 394633.5 3790951.5, 394633.5 3790952.5, 394632.5 3790953.5, 394632.5 3790957.5, 394631.5 3790957.5)\n",
      "13.0 LINESTRING (394304.5 3790811.5, 394301.5 3790811.5, 394300.5 3790810.5, 394295.5 3790810.5, 394293.5 3790812.5, 394292.5 3790812.5, 394291.5 3790811.5, 394284.5 3790811.5, 394283.5 3790810.5, 394281.5 3790810.5, 394280.5 3790809.5, 394279.5 3790809.5, 394276.5 3790806.5, 394276.5 3790805.5, 394275.5 3790804.5, 394275.5 3790803.5, 394274.5 3790802.5, 394274.5 3790801.5, 394273.5 3790800.5, 394273.5 3790799.5, 394272.5 3790798.5, 394272.5 3790797.5, 394271.5 3790797.5, 394267.5 3790793.5, 394267.5 3790789.5, 394265.5 3790787.5, 394260.5 3790787.5, 394260.5 3790786.5, 394258.5 3790784.5, 394257.5 3790784.5, 394257.5 3790781.5, 394253.5 3790777.5, 394253.5 3790775.5, 394254.5 3790774.5, 394254.5 3790772.5, 394255.5 3790771.5, 394255.5 3790769.5, 394256.5 3790768.5, 394256.5 3790766.5, 394257.5 3790765.5, 394257.5 3790760.5, 394258.5 3790759.5, 394258.5 3790747.5, 394260.5 3790745.5, 394260.5 3790738.5, 394259.5 3790737.5, 394259.5 3790735.5, 394258.5 3790734.5, 394258.5 3790725.5, 394256.5 3790723.5, 394256.5 3790719.5, 394254.5 3790717.5, 394254.5 3790715.5, 394253.5 3790715.5, 394250.5 3790712.5, 394247.5 3790712.5, 394244.5 3790715.5, 394242.5 3790715.5, 394241.5 3790716.5, 394239.5 3790716.5, 394238.5 3790717.5, 394236.5 3790717.5, 394235.5 3790718.5, 394232.5 3790718.5, 394231.5 3790719.5, 394230.5 3790719.5, 394228.5 3790721.5, 394227.5 3790721.5, 394223.5 3790725.5, 394221.5 3790725.5, 394220.5 3790726.5, 394218.5 3790726.5, 394217.5 3790727.5, 394216.5 3790727.5, 394215.5 3790728.5, 394210.5 3790728.5, 394209.5 3790727.5, 394208.5 3790727.5, 394207.5 3790726.5, 394206.5 3790726.5, 394203.5 3790723.5, 394203.5 3790722.5, 394202.5 3790721.5, 394202.5 3790719.5, 394198.5 3790715.5, 394198.5 3790714.5, 394194.5 3790710.5, 394192.5 3790710.5, 394190.5 3790708.5, 394180.5 3790708.5, 394179.5 3790707.5, 394176.5 3790707.5, 394172.5 3790711.5, 394172.5 3790712.5, 394171.5 3790713.5, 394171.5 3790715.5, 394170.5 3790716.5, 394169.5 3790716.5, 394168.5 3790717.5, 394167.5 3790717.5, 394165.5 3790719.5, 394164.5 3790719.5, 394162.5 3790721.5, 394161.5 3790721.5, 394160.5 3790722.5, 394157.5 3790722.5, 394156.5 3790723.5, 394154.5 3790723.5, 394153.5 3790724.5, 394152.5 3790724.5, 394151.5 3790725.5, 394150.5 3790725.5, 394147.5 3790722.5, 394145.5 3790722.5, 394144.5 3790721.5)\n",
      "14.0 LINESTRING (394144.5 3790721.5, 394143.5 3790720.5, 394143.5 3790719.5, 394142.5 3790719.5, 394140.5 3790717.5, 394140.5 3790714.5, 394139.5 3790713.5, 394139.5 3790712.5, 394136.5 3790709.5, 394136.5 3790708.5, 394135.5 3790707.5, 394135.5 3790706.5, 394134.5 3790706.5, 394133.5 3790705.5, 394132.5 3790705.5, 394131.5 3790704.5, 394131.5 3790701.5, 394130.5 3790700.5, 394130.5 3790698.5, 394129.5 3790697.5, 394129.5 3790695.5, 394128.5 3790694.5, 394128.5 3790693.5, 394127.5 3790692.5, 394127.5 3790691.5, 394128.5 3790690.5, 394128.5 3790689.5, 394127.5 3790688.5, 394127.5 3790685.5, 394126.5 3790684.5, 394126.5 3790683.5, 394124.5 3790681.5, 394124.5 3790678.5, 394123.5 3790677.5, 394123.5 3790673.5, 394122.5 3790672.5, 394122.5 3790665.5, 394121.5 3790664.5, 394121.5 3790663.5, 394120.5 3790662.5, 394120.5 3790660.5, 394119.5 3790659.5, 394119.5 3790653.5, 394121.5 3790651.5, 394121.5 3790649.5, 394122.5 3790648.5, 394122.5 3790645.5, 394123.5 3790644.5, 394123.5 3790640.5, 394124.5 3790639.5, 394124.5 3790636.5, 394123.5 3790635.5, 394123.5 3790627.5, 394122.5 3790626.5, 394122.5 3790625.5, 394121.5 3790624.5, 394121.5 3790621.5, 394120.5 3790620.5, 394120.5 3790619.5, 394119.5 3790618.5, 394119.5 3790617.5, 394117.5 3790615.5, 394117.5 3790610.5, 394116.5 3790609.5, 394116.5 3790606.5, 394115.5 3790605.5, 394115.5 3790597.5, 394116.5 3790596.5, 394116.5 3790593.5, 394117.5 3790592.5, 394117.5 3790591.5, 394121.5 3790587.5, 394122.5 3790587.5, 394123.5 3790586.5, 394123.5 3790585.5, 394125.5 3790583.5, 394125.5 3790582.5, 394127.5 3790580.5, 394127.5 3790578.5, 394128.5 3790577.5, 394128.5 3790576.5, 394129.5 3790575.5, 394129.5 3790570.5)\n"
     ]
    }
   ],
   "source": [
    "for idx, val in aligned_flowlines.items():\n",
    "    print(idx, val)"
   ]
  },
  {
   "cell_type": "code",
   "execution_count": null,
   "id": "d3a8a1fc-5c84-4d39-9122-130b8b7d74d1",
   "metadata": {},
   "outputs": [],
   "source": []
  }
 ],
 "metadata": {
  "kernelspec": {
   "display_name": "slopes",
   "language": "python",
   "name": "slopes"
  },
  "language_info": {
   "codemirror_mode": {
    "name": "ipython",
    "version": 3
   },
   "file_extension": ".py",
   "mimetype": "text/x-python",
   "name": "python",
   "nbconvert_exporter": "python",
   "pygments_lexer": "ipython3",
   "version": "3.10.8"
  }
 },
 "nbformat": 4,
 "nbformat_minor": 5
}
