{
 "cells": [
  {
   "cell_type": "code",
   "execution_count": 1,
   "id": "50179335-d8f9-4495-bf9f-229c4dd9341c",
   "metadata": {},
   "outputs": [],
   "source": [
    "import rioxarray as rxr\n",
    "import geopandas as gpd\n",
    "import matplotlib.pyplot as plt\n",
    "from loguru import logger\n",
    "import pdb\n",
    "\n",
    "from valleyfloor.process_topography import process_topography\n",
    "from valleyfloor.delineate_reaches import delineate_reaches\n",
    "from valleyfloor.utils import setup_wbt\n",
    "\n",
    "logger.enable(\"valleyfloor\")"
   ]
  },
  {
   "cell_type": "code",
   "execution_count": 2,
   "id": "f20e7221-b23b-462c-9f6d-c73cbe6902dc",
   "metadata": {},
   "outputs": [],
   "source": [
    "wbt = setup_wbt(\"~/opt/WBT/\", \"../working_dir\")\n",
    "\n",
    "dem = rxr.open_rasterio(\"../data/input/dem.tif\", masked=True).squeeze()\n",
    "flowlines = gpd.read_file(\"../data/input/flowlines.shp\")"
   ]
  },
  {
   "cell_type": "code",
   "execution_count": 3,
   "id": "31d7cda0",
   "metadata": {},
   "outputs": [
    {
     "name": "stderr",
     "output_type": "stream",
     "text": [
      "\u001b[32m2024-10-08 22:07:11.545\u001b[0m | \u001b[1mINFO    \u001b[0m | \u001b[36mvalleyfloor.process_topography\u001b[0m:\u001b[36mprocess_topography\u001b[0m:\u001b[36m36\u001b[0m - \u001b[1mprocess topography\u001b[0m\n",
      "/Users/arthurkoehl/Library/Caches/pypoetry/virtualenvs/slopes-mqMb1mKH-py3.10/lib/python3.10/site-packages/pyogrio/geopandas.py:662: UserWarning: 'crs' was not provided.  The output dataset will not have projection information defined and may not be usable in other systems.\n",
      "  write(\n"
     ]
    }
   ],
   "source": [
    "dataset, aligned_flowlines = process_topography(dem, flowlines, wbt)"
   ]
  },
  {
   "cell_type": "code",
   "execution_count": 4,
   "id": "a0b03015-eb6a-480b-b2a2-513127face2c",
   "metadata": {},
   "outputs": [],
   "source": [
    "from slopes.subbasins import label_subbasins\n",
    "from slopes.hillslopes import label_hillslopes"
   ]
  },
  {
   "cell_type": "code",
   "execution_count": 5,
   "id": "d905a1e9-52d1-42ab-a4be-b80dc7df7986",
   "metadata": {},
   "outputs": [],
   "source": [
    "subbasins = label_subbasins(dataset['flow_dir'], dataset['flow_acc'], dataset['flowpaths'], wbt)"
   ]
  },
  {
   "cell_type": "code",
   "execution_count": null,
   "id": "7e2278b1-0447-4838-923c-4f3d22dcabc2",
   "metadata": {},
   "outputs": [
    {
     "name": "stdout",
     "output_type": "stream",
     "text": [
      "1.0\n"
     ]
    },
    {
     "name": "stderr",
     "output_type": "stream",
     "text": [
      "/Users/arthurkoehl/Library/Caches/pypoetry/virtualenvs/slopes-mqMb1mKH-py3.10/lib/python3.10/site-packages/numba/typed/typeddict.py:34: NumbaTypeSafetyWarning: unsafe cast from int64 to uint8. Precision may be lost.\n",
      "  d[key] = value\n"
     ]
    }
   ],
   "source": [
    "hillslopes = label_hillslopes(dataset['flowpaths'], dataset['flow_dir'], dataset['flow_acc'], subbasins)"
   ]
  },
  {
   "cell_type": "code",
   "execution_count": 7,
   "id": "dd14f45e-e33e-4aa1-8e0a-4b1a4ba6df61",
   "metadata": {},
   "outputs": [
    {
     "name": "stdout",
     "output_type": "stream",
     "text": [
      "1.0\n",
      "2.0\n",
      "3.0\n",
      "4.0\n",
      "5.0\n",
      "6.0\n",
      "7.0\n"
     ]
    }
   ],
   "source": [
    "from slopes.utils import finite_unique\n",
    "from valleyfloor.flow.hillslope import label_drainage_sides\n",
    "import numpy as np\n",
    "\n",
    "flow_paths = dataset['flowpaths']\n",
    "flow_acc = dataset['flow_acc']\n",
    "flow_dir = dataset['flow_dir']\n",
    "assert(set(finite_unique(subbasins)) == set(finite_unique(flow_paths)))\n",
    "\n",
    "hillslopes = flow_paths.copy()\n",
    "hillslopes.data = np.zeros_like(flow_paths)\n",
    "\n",
    "for streamID in finite_unique(subbasins):\n",
    "    if streamID > 7:\n",
    "        break\n",
    "    print(streamID)\n",
    "    basin_mask = (subbasins == streamID)\n",
    "    flowpath_clipped = flow_paths.where(basin_mask)\n",
    "    flowacc_clipped = flow_acc.where(basin_mask)\n",
    "    flowdir_clipped = flow_dir.where(basin_mask)\n",
    "    #basins = label_drainage_sides(flowpath_clipped, flowdir_clipped,\n",
    "    #                                  flowacc_clipped)\n",
    "    #mask = ~np.isnan(basins)\n",
    "    #hillslopes = hillslopes.where(~mask, other=basins)"
   ]
  },
  {
   "cell_type": "code",
   "execution_count": 8,
   "id": "e04e1500-014f-4cb6-8295-f739ba2522c9",
   "metadata": {},
   "outputs": [],
   "source": [
    "from valleyfloor.flow.graph import WBT_DIRMAP\n",
    "from valleyfloor.flow.graph import flowdir_to_graph\n",
    "from valleyfloor.flow.graph import trace_flowpaths\n",
    "\n",
    "def _is_on_edge(row_ind, col_ind, array):\n",
    "    nrow,ncol = array.shape\n",
    "    for dx in [-1, 0, 1]:\n",
    "        for dy in [-1, 0, 1]:\n",
    "            new_r = row_ind + dx\n",
    "            new_c = col_ind + dy\n",
    "            if new_r >= nrow or new_r < 0:\n",
    "                return True\n",
    "            if new_c >= ncol or new_c < 0:\n",
    "                return True\n",
    "            value = array[new_r, new_c]\n",
    "            if not np.isfinite(value):\n",
    "                return True\n",
    "\n",
    "    return False\n",
    "\n",
    "def _inds_of_inlet(flowpath, flowacc):\n",
    "    condition = np.isfinite(flowpath)\n",
    "    fa = flowacc.where(condition, drop=False)\n",
    "    min_point = np.nanargmin(fa.data)\n",
    "    min_x, min_y = np.unravel_index(min_point, fa.data.shape)\n",
    "    return min_x.item(), min_y.item()\n",
    "\n",
    "def _inds_of_outlet(flowpath, flowacc):\n",
    "    # get inds of flowpath with max flow acc and min flowacc\n",
    "    condition = np.isfinite(flowpath)\n",
    "    fa = flowacc.where(condition, drop=False)\n",
    "    max_point = np.nanargmax(fa.data)\n",
    "    max_x, max_y = np.unravel_index(max_point, fa.data.shape)\n",
    "    return max_x.item(), max_y.item()"
   ]
  },
  {
   "cell_type": "code",
   "execution_count": 9,
   "id": "9c62ea29-c2df-4523-90d8-6c8ffc344706",
   "metadata": {},
   "outputs": [],
   "source": [
    "flowpath = flowpath_clipped\n",
    "flowacc = flowacc_clipped\n",
    "flowdir = flowdir_clipped"
   ]
  },
  {
   "cell_type": "code",
   "execution_count": 15,
   "id": "15c6b217-383a-49ca-968b-baef4700ffa0",
   "metadata": {},
   "outputs": [],
   "source": [
    "inlet_r, inlet_c = _inds_of_inlet(flowpath, flowacc)\n",
    "outlet_r, outlet_c = _inds_of_outlet(flowpath, flowacc)\n",
    "\n",
    "basins = flowacc.copy()\n",
    "basins.data = np.ones_like(flowacc.data)\n",
    "basins.data[np.isfinite(flowpath)] = 0\n",
    "basins.data[np.isnan(flowacc)] = np.nan\n",
    "import skimage"
   ]
  },
  {
   "cell_type": "code",
   "execution_count": 16,
   "id": "50df0f32-44ca-467e-b496-08a670920a2a",
   "metadata": {},
   "outputs": [],
   "source": [
    "# connected components\n",
    "basins.data[np.isnan(basins.data)] = -9999\n",
    "labels = skimage.measure.label(basins.data.astype(np.int32), connectivity=1)\n",
    "basins.data = labels.astype(np.float64)\n",
    "basins.data[np.isnan(flowacc)] = np.nan"
   ]
  },
  {
   "cell_type": "code",
   "execution_count": null,
   "id": "de2c3f89-ca3d-4e39-a55e-8654f4593f81",
   "metadata": {},
   "outputs": [
    {
     "name": "stderr",
     "output_type": "stream",
     "text": [
      "/Users/arthurkoehl/Library/Caches/pypoetry/virtualenvs/slopes-mqMb1mKH-py3.10/lib/python3.10/site-packages/numba/typed/typeddict.py:34: NumbaTypeSafetyWarning: unsafe cast from int64 to uint8. Precision may be lost.\n",
      "  d[key] = value\n"
     ]
    }
   ],
   "source": [
    "label_drainage_sides(flowpath, flowdir, flowacc)"
   ]
  },
  {
   "cell_type": "code",
   "execution_count": null,
   "id": "003f90f4-1dbf-455d-b754-213e2ab11491",
   "metadata": {},
   "outputs": [],
   "source": []
  }
 ],
 "metadata": {
  "kernelspec": {
   "display_name": "slopes",
   "language": "python",
   "name": "slopes"
  },
  "language_info": {
   "codemirror_mode": {
    "name": "ipython",
    "version": 3
   },
   "file_extension": ".py",
   "mimetype": "text/x-python",
   "name": "python",
   "nbconvert_exporter": "python",
   "pygments_lexer": "ipython3",
   "version": "3.10.8"
  }
 },
 "nbformat": 4,
 "nbformat_minor": 5
}
