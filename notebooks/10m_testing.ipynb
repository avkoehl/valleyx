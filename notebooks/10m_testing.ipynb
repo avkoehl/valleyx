{
 "cells": [
  {
   "cell_type": "code",
   "execution_count": 12,
   "id": "318033d4-d2c2-4b3e-947d-2b046371c56c",
   "metadata": {},
   "outputs": [],
   "source": [
    "import toml\n",
    "import matplotlib.pyplot as plt\n",
    "import xarray as xr\n",
    "import geopandas as gpd\n",
    "import numpy as np\n",
    "from loguru import logger\n",
    "\n",
    "from slopes.__main__ import main\n",
    "from slopes.__main__ import setup_wbt\n",
    "from slopes.__main__ import load_input\n",
    "from slopes.__main__ import process_topography, delineate_reaches, smooth_flowlines, compute_profiles, wall_points_max_ascent, wall_points_curv, label_floors\n",
    "from slopes.raster.raster_utils import finite_unique\n",
    "\n",
    "logger.enable('slopes')"
   ]
  },
  {
   "cell_type": "code",
   "execution_count": 13,
   "id": "78b3e345-a157-46f7-8bce-838eebf462df",
   "metadata": {},
   "outputs": [],
   "source": [
    "params = toml.load(\"../sample_params/params_10m.toml\")\n",
    "wbt = setup_wbt(\"../working_dir/\")"
   ]
  },
  {
   "cell_type": "code",
   "execution_count": 14,
   "id": "ade7fc02-7bd6-41bc-b62c-c92d9d63dcd6",
   "metadata": {},
   "outputs": [],
   "source": [
    "dem, flowlines = load_input(\"../data/test_sites_10m/1801010701-dem.tif\", \"../data/test_sites_10m/1801010701-flowlines.shp\")"
   ]
  },
  {
   "cell_type": "code",
   "execution_count": 15,
   "id": "c8773a92-918a-41a0-ad8a-0f8ffa3f1872",
   "metadata": {},
   "outputs": [],
   "source": [
    "dataset, aligned_flowlines = process_topography(dem, flowlines, wbt, params['sigma'])"
   ]
  },
  {
   "cell_type": "code",
   "execution_count": 16,
   "id": "8a1a63f9-992a-4227-bbe2-6bbcbbd1d593",
   "metadata": {},
   "outputs": [
    {
     "name": "stderr",
     "output_type": "stream",
     "text": [
      "\u001b[32m2024-11-07 13:45:35.342\u001b[0m | \u001b[1mINFO    \u001b[0m | \u001b[36mslopes.reach.reaches\u001b[0m:\u001b[36mdelineate_reaches\u001b[0m:\u001b[36m26\u001b[0m - \u001b[1mRough out valley floors\u001b[0m\n",
      "\u001b[32m2024-11-07 13:45:37.863\u001b[0m | \u001b[1mINFO    \u001b[0m | \u001b[36mslopes.reach.reaches\u001b[0m:\u001b[36mdelineate_reaches\u001b[0m:\u001b[36m28\u001b[0m - \u001b[1mSegment into reaches\u001b[0m\n",
      "\u001b[32m2024-11-07 13:45:37.864\u001b[0m | \u001b[1mINFO    \u001b[0m | \u001b[36mslopes.reach.reaches\u001b[0m:\u001b[36mreach_subbasins\u001b[0m:\u001b[36m39\u001b[0m - \u001b[1mget points that represent the breaks\u001b[0m\n",
      "\u001b[32m2024-11-07 13:45:37.866\u001b[0m | \u001b[1mINFO    \u001b[0m | \u001b[36mslopes.reach.reaches\u001b[0m:\u001b[36m_compute_reaches\u001b[0m:\u001b[36m68\u001b[0m - \u001b[1mSplitting 1.0 into reaches, 1/71 1.41%\u001b[0m\n",
      "\u001b[32m2024-11-07 13:45:39.806\u001b[0m | \u001b[1mINFO    \u001b[0m | \u001b[36mslopes.reach.reaches\u001b[0m:\u001b[36m_compute_reaches\u001b[0m:\u001b[36m68\u001b[0m - \u001b[1mSplitting 2.0 into reaches, 2/71 2.82%\u001b[0m\n",
      "\u001b[32m2024-11-07 13:45:41.088\u001b[0m | \u001b[1mINFO    \u001b[0m | \u001b[36mslopes.reach.reaches\u001b[0m:\u001b[36m_compute_reaches\u001b[0m:\u001b[36m68\u001b[0m - \u001b[1mSplitting 3.0 into reaches, 3/71 4.23%\u001b[0m\n",
      "\u001b[32m2024-11-07 13:45:42.746\u001b[0m | \u001b[1mINFO    \u001b[0m | \u001b[36mslopes.reach.reaches\u001b[0m:\u001b[36m_compute_reaches\u001b[0m:\u001b[36m68\u001b[0m - \u001b[1mSplitting 4.0 into reaches, 4/71 5.63%\u001b[0m\n",
      "\u001b[32m2024-11-07 13:45:43.912\u001b[0m | \u001b[1mINFO    \u001b[0m | \u001b[36mslopes.reach.reaches\u001b[0m:\u001b[36m_compute_reaches\u001b[0m:\u001b[36m68\u001b[0m - \u001b[1mSplitting 5.0 into reaches, 5/71 7.04%\u001b[0m\n",
      "\u001b[32m2024-11-07 13:45:44.561\u001b[0m | \u001b[1mINFO    \u001b[0m | \u001b[36mslopes.reach.reaches\u001b[0m:\u001b[36m_compute_reaches\u001b[0m:\u001b[36m68\u001b[0m - \u001b[1mSplitting 6.0 into reaches, 6/71 8.45%\u001b[0m\n",
      "\u001b[32m2024-11-07 13:45:45.463\u001b[0m | \u001b[1mINFO    \u001b[0m | \u001b[36mslopes.reach.reaches\u001b[0m:\u001b[36m_compute_reaches\u001b[0m:\u001b[36m68\u001b[0m - \u001b[1mSplitting 7.0 into reaches, 7/71 9.86%\u001b[0m\n",
      "\u001b[32m2024-11-07 13:45:46.604\u001b[0m | \u001b[1mINFO    \u001b[0m | \u001b[36mslopes.reach.reaches\u001b[0m:\u001b[36m_compute_reaches\u001b[0m:\u001b[36m68\u001b[0m - \u001b[1mSplitting 8.0 into reaches, 8/71 11.27%\u001b[0m\n",
      "\u001b[32m2024-11-07 13:45:48.231\u001b[0m | \u001b[1mINFO    \u001b[0m | \u001b[36mslopes.reach.reaches\u001b[0m:\u001b[36m_compute_reaches\u001b[0m:\u001b[36m68\u001b[0m - \u001b[1mSplitting 9.0 into reaches, 9/71 12.68%\u001b[0m\n",
      "\u001b[32m2024-11-07 13:45:49.197\u001b[0m | \u001b[1mINFO    \u001b[0m | \u001b[36mslopes.reach.reaches\u001b[0m:\u001b[36m_compute_reaches\u001b[0m:\u001b[36m68\u001b[0m - \u001b[1mSplitting 10.0 into reaches, 10/71 14.08%\u001b[0m\n",
      "\u001b[32m2024-11-07 13:45:49.974\u001b[0m | \u001b[1mINFO    \u001b[0m | \u001b[36mslopes.reach.reaches\u001b[0m:\u001b[36m_compute_reaches\u001b[0m:\u001b[36m68\u001b[0m - \u001b[1mSplitting 11.0 into reaches, 11/71 15.49%\u001b[0m\n",
      "\u001b[32m2024-11-07 13:45:50.886\u001b[0m | \u001b[1mINFO    \u001b[0m | \u001b[36mslopes.reach.reaches\u001b[0m:\u001b[36m_compute_reaches\u001b[0m:\u001b[36m68\u001b[0m - \u001b[1mSplitting 12.0 into reaches, 12/71 16.9%\u001b[0m\n",
      "\u001b[32m2024-11-07 13:45:51.903\u001b[0m | \u001b[1mINFO    \u001b[0m | \u001b[36mslopes.reach.reaches\u001b[0m:\u001b[36m_compute_reaches\u001b[0m:\u001b[36m68\u001b[0m - \u001b[1mSplitting 13.0 into reaches, 13/71 18.31%\u001b[0m\n",
      "\u001b[32m2024-11-07 13:45:52.886\u001b[0m | \u001b[1mINFO    \u001b[0m | \u001b[36mslopes.reach.reaches\u001b[0m:\u001b[36m_compute_reaches\u001b[0m:\u001b[36m68\u001b[0m - \u001b[1mSplitting 14.0 into reaches, 14/71 19.72%\u001b[0m\n",
      "\u001b[32m2024-11-07 13:45:53.585\u001b[0m | \u001b[1mINFO    \u001b[0m | \u001b[36mslopes.reach.reaches\u001b[0m:\u001b[36m_compute_reaches\u001b[0m:\u001b[36m68\u001b[0m - \u001b[1mSplitting 15.0 into reaches, 15/71 21.13%\u001b[0m\n",
      "\u001b[32m2024-11-07 13:45:54.541\u001b[0m | \u001b[1mINFO    \u001b[0m | \u001b[36mslopes.reach.reaches\u001b[0m:\u001b[36m_compute_reaches\u001b[0m:\u001b[36m68\u001b[0m - \u001b[1mSplitting 16.0 into reaches, 16/71 22.54%\u001b[0m\n",
      "\u001b[32m2024-11-07 13:45:55.158\u001b[0m | \u001b[1mINFO    \u001b[0m | \u001b[36mslopes.reach.reaches\u001b[0m:\u001b[36m_compute_reaches\u001b[0m:\u001b[36m68\u001b[0m - \u001b[1mSplitting 17.0 into reaches, 17/71 23.94%\u001b[0m\n",
      "\u001b[32m2024-11-07 13:45:55.911\u001b[0m | \u001b[1mINFO    \u001b[0m | \u001b[36mslopes.reach.reaches\u001b[0m:\u001b[36m_compute_reaches\u001b[0m:\u001b[36m68\u001b[0m - \u001b[1mSplitting 18.0 into reaches, 18/71 25.35%\u001b[0m\n",
      "\u001b[32m2024-11-07 13:45:56.492\u001b[0m | \u001b[1mINFO    \u001b[0m | \u001b[36mslopes.reach.reaches\u001b[0m:\u001b[36m_compute_reaches\u001b[0m:\u001b[36m68\u001b[0m - \u001b[1mSplitting 19.0 into reaches, 19/71 26.76%\u001b[0m\n",
      "\u001b[32m2024-11-07 13:45:58.167\u001b[0m | \u001b[1mINFO    \u001b[0m | \u001b[36mslopes.reach.reaches\u001b[0m:\u001b[36m_compute_reaches\u001b[0m:\u001b[36m68\u001b[0m - \u001b[1mSplitting 20.0 into reaches, 20/71 28.17%\u001b[0m\n",
      "\u001b[32m2024-11-07 13:45:59.019\u001b[0m | \u001b[1mINFO    \u001b[0m | \u001b[36mslopes.reach.reaches\u001b[0m:\u001b[36m_compute_reaches\u001b[0m:\u001b[36m68\u001b[0m - \u001b[1mSplitting 21.0 into reaches, 21/71 29.58%\u001b[0m\n",
      "\u001b[32m2024-11-07 13:45:59.970\u001b[0m | \u001b[1mINFO    \u001b[0m | \u001b[36mslopes.reach.reaches\u001b[0m:\u001b[36m_compute_reaches\u001b[0m:\u001b[36m68\u001b[0m - \u001b[1mSplitting 22.0 into reaches, 22/71 30.99%\u001b[0m\n",
      "\u001b[32m2024-11-07 13:46:00.748\u001b[0m | \u001b[1mINFO    \u001b[0m | \u001b[36mslopes.reach.reaches\u001b[0m:\u001b[36m_compute_reaches\u001b[0m:\u001b[36m68\u001b[0m - \u001b[1mSplitting 23.0 into reaches, 23/71 32.39%\u001b[0m\n",
      "\u001b[32m2024-11-07 13:46:01.763\u001b[0m | \u001b[1mINFO    \u001b[0m | \u001b[36mslopes.reach.reaches\u001b[0m:\u001b[36m_compute_reaches\u001b[0m:\u001b[36m68\u001b[0m - \u001b[1mSplitting 24.0 into reaches, 24/71 33.8%\u001b[0m\n",
      "\u001b[32m2024-11-07 13:46:06.242\u001b[0m | \u001b[1mINFO    \u001b[0m | \u001b[36mslopes.reach.reaches\u001b[0m:\u001b[36m_compute_reaches\u001b[0m:\u001b[36m68\u001b[0m - \u001b[1mSplitting 25.0 into reaches, 25/71 35.21%\u001b[0m\n",
      "\u001b[32m2024-11-07 13:46:07.792\u001b[0m | \u001b[1mINFO    \u001b[0m | \u001b[36mslopes.reach.reaches\u001b[0m:\u001b[36m_compute_reaches\u001b[0m:\u001b[36m68\u001b[0m - \u001b[1mSplitting 26.0 into reaches, 26/71 36.62%\u001b[0m\n",
      "\u001b[32m2024-11-07 13:46:09.412\u001b[0m | \u001b[1mINFO    \u001b[0m | \u001b[36mslopes.reach.reaches\u001b[0m:\u001b[36m_compute_reaches\u001b[0m:\u001b[36m68\u001b[0m - \u001b[1mSplitting 27.0 into reaches, 27/71 38.03%\u001b[0m\n",
      "\u001b[32m2024-11-07 13:46:10.252\u001b[0m | \u001b[1mINFO    \u001b[0m | \u001b[36mslopes.reach.reaches\u001b[0m:\u001b[36m_compute_reaches\u001b[0m:\u001b[36m68\u001b[0m - \u001b[1mSplitting 28.0 into reaches, 28/71 39.44%\u001b[0m\n",
      "\u001b[32m2024-11-07 13:46:11.309\u001b[0m | \u001b[1mINFO    \u001b[0m | \u001b[36mslopes.reach.reaches\u001b[0m:\u001b[36m_compute_reaches\u001b[0m:\u001b[36m68\u001b[0m - \u001b[1mSplitting 29.0 into reaches, 29/71 40.85%\u001b[0m\n",
      "\u001b[32m2024-11-07 13:46:13.245\u001b[0m | \u001b[1mINFO    \u001b[0m | \u001b[36mslopes.reach.reaches\u001b[0m:\u001b[36m_compute_reaches\u001b[0m:\u001b[36m68\u001b[0m - \u001b[1mSplitting 30.0 into reaches, 30/71 42.25%\u001b[0m\n",
      "\u001b[32m2024-11-07 13:46:14.388\u001b[0m | \u001b[1mINFO    \u001b[0m | \u001b[36mslopes.reach.reaches\u001b[0m:\u001b[36m_compute_reaches\u001b[0m:\u001b[36m68\u001b[0m - \u001b[1mSplitting 31.0 into reaches, 31/71 43.66%\u001b[0m\n",
      "\u001b[32m2024-11-07 13:46:15.150\u001b[0m | \u001b[1mINFO    \u001b[0m | \u001b[36mslopes.reach.reaches\u001b[0m:\u001b[36m_compute_reaches\u001b[0m:\u001b[36m68\u001b[0m - \u001b[1mSplitting 32.0 into reaches, 32/71 45.07%\u001b[0m\n",
      "\u001b[32m2024-11-07 13:46:15.891\u001b[0m | \u001b[1mINFO    \u001b[0m | \u001b[36mslopes.reach.reaches\u001b[0m:\u001b[36m_compute_reaches\u001b[0m:\u001b[36m68\u001b[0m - \u001b[1mSplitting 33.0 into reaches, 33/71 46.48%\u001b[0m\n",
      "\u001b[32m2024-11-07 13:46:17.171\u001b[0m | \u001b[1mINFO    \u001b[0m | \u001b[36mslopes.reach.reaches\u001b[0m:\u001b[36m_compute_reaches\u001b[0m:\u001b[36m68\u001b[0m - \u001b[1mSplitting 34.0 into reaches, 34/71 47.89%\u001b[0m\n",
      "\u001b[32m2024-11-07 13:46:18.057\u001b[0m | \u001b[1mINFO    \u001b[0m | \u001b[36mslopes.reach.reaches\u001b[0m:\u001b[36m_compute_reaches\u001b[0m:\u001b[36m68\u001b[0m - \u001b[1mSplitting 35.0 into reaches, 35/71 49.3%\u001b[0m\n",
      "\u001b[32m2024-11-07 13:46:21.370\u001b[0m | \u001b[1mINFO    \u001b[0m | \u001b[36mslopes.reach.reaches\u001b[0m:\u001b[36m_compute_reaches\u001b[0m:\u001b[36m68\u001b[0m - \u001b[1mSplitting 36.0 into reaches, 36/71 50.7%\u001b[0m\n",
      "\u001b[32m2024-11-07 13:46:25.314\u001b[0m | \u001b[1mINFO    \u001b[0m | \u001b[36mslopes.reach.reaches\u001b[0m:\u001b[36m_compute_reaches\u001b[0m:\u001b[36m68\u001b[0m - \u001b[1mSplitting 38.0 into reaches, 37/71 52.11%\u001b[0m\n",
      "\u001b[32m2024-11-07 13:46:25.517\u001b[0m | \u001b[1mINFO    \u001b[0m | \u001b[36mslopes.reach.reaches\u001b[0m:\u001b[36m_compute_reaches\u001b[0m:\u001b[36m68\u001b[0m - \u001b[1mSplitting 39.0 into reaches, 38/71 53.52%\u001b[0m\n",
      "\u001b[32m2024-11-07 13:46:26.385\u001b[0m | \u001b[1mINFO    \u001b[0m | \u001b[36mslopes.reach.reaches\u001b[0m:\u001b[36m_compute_reaches\u001b[0m:\u001b[36m68\u001b[0m - \u001b[1mSplitting 40.0 into reaches, 39/71 54.93%\u001b[0m\n",
      "\u001b[32m2024-11-07 13:46:27.096\u001b[0m | \u001b[1mINFO    \u001b[0m | \u001b[36mslopes.reach.reaches\u001b[0m:\u001b[36m_compute_reaches\u001b[0m:\u001b[36m68\u001b[0m - \u001b[1mSplitting 41.0 into reaches, 40/71 56.34%\u001b[0m\n",
      "\u001b[32m2024-11-07 13:46:27.480\u001b[0m | \u001b[1mINFO    \u001b[0m | \u001b[36mslopes.reach.reaches\u001b[0m:\u001b[36m_compute_reaches\u001b[0m:\u001b[36m68\u001b[0m - \u001b[1mSplitting 42.0 into reaches, 41/71 57.75%\u001b[0m\n",
      "\u001b[32m2024-11-07 13:46:27.880\u001b[0m | \u001b[1mINFO    \u001b[0m | \u001b[36mslopes.reach.reaches\u001b[0m:\u001b[36m_compute_reaches\u001b[0m:\u001b[36m68\u001b[0m - \u001b[1mSplitting 43.0 into reaches, 42/71 59.15%\u001b[0m\n",
      "\u001b[32m2024-11-07 13:46:28.396\u001b[0m | \u001b[1mINFO    \u001b[0m | \u001b[36mslopes.reach.reaches\u001b[0m:\u001b[36m_compute_reaches\u001b[0m:\u001b[36m68\u001b[0m - \u001b[1mSplitting 44.0 into reaches, 43/71 60.56%\u001b[0m\n",
      "\u001b[32m2024-11-07 13:46:28.752\u001b[0m | \u001b[1mINFO    \u001b[0m | \u001b[36mslopes.reach.reaches\u001b[0m:\u001b[36m_compute_reaches\u001b[0m:\u001b[36m68\u001b[0m - \u001b[1mSplitting 45.0 into reaches, 44/71 61.97%\u001b[0m\n",
      "\u001b[32m2024-11-07 13:46:29.469\u001b[0m | \u001b[1mINFO    \u001b[0m | \u001b[36mslopes.reach.reaches\u001b[0m:\u001b[36m_compute_reaches\u001b[0m:\u001b[36m68\u001b[0m - \u001b[1mSplitting 46.0 into reaches, 45/71 63.38%\u001b[0m\n",
      "\u001b[32m2024-11-07 13:46:29.856\u001b[0m | \u001b[1mINFO    \u001b[0m | \u001b[36mslopes.reach.reaches\u001b[0m:\u001b[36m_compute_reaches\u001b[0m:\u001b[36m68\u001b[0m - \u001b[1mSplitting 47.0 into reaches, 46/71 64.79%\u001b[0m\n",
      "\u001b[32m2024-11-07 13:46:30.215\u001b[0m | \u001b[1mINFO    \u001b[0m | \u001b[36mslopes.reach.reaches\u001b[0m:\u001b[36m_compute_reaches\u001b[0m:\u001b[36m68\u001b[0m - \u001b[1mSplitting 48.0 into reaches, 47/71 66.2%\u001b[0m\n",
      "\u001b[32m2024-11-07 13:46:30.632\u001b[0m | \u001b[1mINFO    \u001b[0m | \u001b[36mslopes.reach.reaches\u001b[0m:\u001b[36m_compute_reaches\u001b[0m:\u001b[36m68\u001b[0m - \u001b[1mSplitting 49.0 into reaches, 48/71 67.61%\u001b[0m\n",
      "\u001b[32m2024-11-07 13:46:30.963\u001b[0m | \u001b[1mINFO    \u001b[0m | \u001b[36mslopes.reach.reaches\u001b[0m:\u001b[36m_compute_reaches\u001b[0m:\u001b[36m68\u001b[0m - \u001b[1mSplitting 50.0 into reaches, 49/71 69.01%\u001b[0m\n",
      "\u001b[32m2024-11-07 13:46:31.541\u001b[0m | \u001b[1mINFO    \u001b[0m | \u001b[36mslopes.reach.reaches\u001b[0m:\u001b[36m_compute_reaches\u001b[0m:\u001b[36m68\u001b[0m - \u001b[1mSplitting 51.0 into reaches, 50/71 70.42%\u001b[0m\n",
      "\u001b[32m2024-11-07 13:46:32.564\u001b[0m | \u001b[1mINFO    \u001b[0m | \u001b[36mslopes.reach.reaches\u001b[0m:\u001b[36m_compute_reaches\u001b[0m:\u001b[36m68\u001b[0m - \u001b[1mSplitting 52.0 into reaches, 51/71 71.83%\u001b[0m\n",
      "\u001b[32m2024-11-07 13:46:33.482\u001b[0m | \u001b[1mINFO    \u001b[0m | \u001b[36mslopes.reach.reaches\u001b[0m:\u001b[36m_compute_reaches\u001b[0m:\u001b[36m68\u001b[0m - \u001b[1mSplitting 53.0 into reaches, 52/71 73.24%\u001b[0m\n",
      "\u001b[32m2024-11-07 13:46:33.873\u001b[0m | \u001b[1mINFO    \u001b[0m | \u001b[36mslopes.reach.reaches\u001b[0m:\u001b[36m_compute_reaches\u001b[0m:\u001b[36m68\u001b[0m - \u001b[1mSplitting 54.0 into reaches, 53/71 74.65%\u001b[0m\n",
      "\u001b[32m2024-11-07 13:46:35.262\u001b[0m | \u001b[1mINFO    \u001b[0m | \u001b[36mslopes.reach.reaches\u001b[0m:\u001b[36m_compute_reaches\u001b[0m:\u001b[36m68\u001b[0m - \u001b[1mSplitting 55.0 into reaches, 54/71 76.06%\u001b[0m\n",
      "\u001b[32m2024-11-07 13:46:36.054\u001b[0m | \u001b[1mINFO    \u001b[0m | \u001b[36mslopes.reach.reaches\u001b[0m:\u001b[36m_compute_reaches\u001b[0m:\u001b[36m68\u001b[0m - \u001b[1mSplitting 56.0 into reaches, 55/71 77.46%\u001b[0m\n",
      "\u001b[32m2024-11-07 13:46:36.560\u001b[0m | \u001b[1mINFO    \u001b[0m | \u001b[36mslopes.reach.reaches\u001b[0m:\u001b[36m_compute_reaches\u001b[0m:\u001b[36m68\u001b[0m - \u001b[1mSplitting 57.0 into reaches, 56/71 78.87%\u001b[0m\n",
      "\u001b[32m2024-11-07 13:46:37.093\u001b[0m | \u001b[1mINFO    \u001b[0m | \u001b[36mslopes.reach.reaches\u001b[0m:\u001b[36m_compute_reaches\u001b[0m:\u001b[36m68\u001b[0m - \u001b[1mSplitting 58.0 into reaches, 57/71 80.28%\u001b[0m\n",
      "\u001b[32m2024-11-07 13:46:38.102\u001b[0m | \u001b[1mINFO    \u001b[0m | \u001b[36mslopes.reach.reaches\u001b[0m:\u001b[36m_compute_reaches\u001b[0m:\u001b[36m68\u001b[0m - \u001b[1mSplitting 59.0 into reaches, 58/71 81.69%\u001b[0m\n",
      "\u001b[32m2024-11-07 13:46:38.529\u001b[0m | \u001b[1mINFO    \u001b[0m | \u001b[36mslopes.reach.reaches\u001b[0m:\u001b[36m_compute_reaches\u001b[0m:\u001b[36m68\u001b[0m - \u001b[1mSplitting 60.0 into reaches, 59/71 83.1%\u001b[0m\n",
      "\u001b[32m2024-11-07 13:46:38.730\u001b[0m | \u001b[1mINFO    \u001b[0m | \u001b[36mslopes.reach.reaches\u001b[0m:\u001b[36m_compute_reaches\u001b[0m:\u001b[36m68\u001b[0m - \u001b[1mSplitting 61.0 into reaches, 60/71 84.51%\u001b[0m\n",
      "\u001b[32m2024-11-07 13:46:39.357\u001b[0m | \u001b[1mINFO    \u001b[0m | \u001b[36mslopes.reach.reaches\u001b[0m:\u001b[36m_compute_reaches\u001b[0m:\u001b[36m68\u001b[0m - \u001b[1mSplitting 62.0 into reaches, 61/71 85.92%\u001b[0m\n",
      "\u001b[32m2024-11-07 13:46:40.211\u001b[0m | \u001b[1mINFO    \u001b[0m | \u001b[36mslopes.reach.reaches\u001b[0m:\u001b[36m_compute_reaches\u001b[0m:\u001b[36m68\u001b[0m - \u001b[1mSplitting 63.0 into reaches, 62/71 87.32%\u001b[0m\n",
      "\u001b[32m2024-11-07 13:46:40.521\u001b[0m | \u001b[1mINFO    \u001b[0m | \u001b[36mslopes.reach.reaches\u001b[0m:\u001b[36m_compute_reaches\u001b[0m:\u001b[36m68\u001b[0m - \u001b[1mSplitting 64.0 into reaches, 63/71 88.73%\u001b[0m\n",
      "\u001b[32m2024-11-07 13:46:41.141\u001b[0m | \u001b[1mINFO    \u001b[0m | \u001b[36mslopes.reach.reaches\u001b[0m:\u001b[36m_compute_reaches\u001b[0m:\u001b[36m68\u001b[0m - \u001b[1mSplitting 65.0 into reaches, 64/71 90.14%\u001b[0m\n",
      "\u001b[32m2024-11-07 13:46:41.521\u001b[0m | \u001b[1mINFO    \u001b[0m | \u001b[36mslopes.reach.reaches\u001b[0m:\u001b[36m_compute_reaches\u001b[0m:\u001b[36m68\u001b[0m - \u001b[1mSplitting 66.0 into reaches, 65/71 91.55%\u001b[0m\n",
      "\u001b[32m2024-11-07 13:46:42.774\u001b[0m | \u001b[1mINFO    \u001b[0m | \u001b[36mslopes.reach.reaches\u001b[0m:\u001b[36m_compute_reaches\u001b[0m:\u001b[36m68\u001b[0m - \u001b[1mSplitting 67.0 into reaches, 66/71 92.96%\u001b[0m\n",
      "\u001b[32m2024-11-07 13:46:44.440\u001b[0m | \u001b[1mINFO    \u001b[0m | \u001b[36mslopes.reach.reaches\u001b[0m:\u001b[36m_compute_reaches\u001b[0m:\u001b[36m68\u001b[0m - \u001b[1mSplitting 68.0 into reaches, 67/71 94.37%\u001b[0m\n",
      "\u001b[32m2024-11-07 13:46:45.660\u001b[0m | \u001b[1mINFO    \u001b[0m | \u001b[36mslopes.reach.reaches\u001b[0m:\u001b[36m_compute_reaches\u001b[0m:\u001b[36m68\u001b[0m - \u001b[1mSplitting 69.0 into reaches, 68/71 95.77%\u001b[0m\n",
      "\u001b[32m2024-11-07 13:46:46.589\u001b[0m | \u001b[1mINFO    \u001b[0m | \u001b[36mslopes.reach.reaches\u001b[0m:\u001b[36m_compute_reaches\u001b[0m:\u001b[36m68\u001b[0m - \u001b[1mSplitting 70.0 into reaches, 69/71 97.18%\u001b[0m\n",
      "\u001b[32m2024-11-07 13:46:47.387\u001b[0m | \u001b[1mINFO    \u001b[0m | \u001b[36mslopes.reach.reaches\u001b[0m:\u001b[36m_compute_reaches\u001b[0m:\u001b[36m68\u001b[0m - \u001b[1mSplitting 71.0 into reaches, 70/71 98.59%\u001b[0m\n",
      "\u001b[32m2024-11-07 13:46:48.962\u001b[0m | \u001b[1mINFO    \u001b[0m | \u001b[36mslopes.reach.reaches\u001b[0m:\u001b[36m_compute_reaches\u001b[0m:\u001b[36m68\u001b[0m - \u001b[1mSplitting 72.0 into reaches, 71/71 100.0%\u001b[0m\n",
      "\u001b[32m2024-11-07 13:46:49.298\u001b[0m | \u001b[1mINFO    \u001b[0m | \u001b[36mslopes.reach.reaches\u001b[0m:\u001b[36mreach_subbasins\u001b[0m:\u001b[36m41\u001b[0m - \u001b[1mrelabel things\u001b[0m\n",
      "\u001b[32m2024-11-07 13:46:50.110\u001b[0m | \u001b[1mINFO    \u001b[0m | \u001b[36mslopes.reach.reaches\u001b[0m:\u001b[36mreach_subbasins\u001b[0m:\u001b[36m51\u001b[0m - \u001b[1mcompute subbasins and hillslopes\u001b[0m\n"
     ]
    }
   ],
   "source": [
    "dataset, flowlines_reaches = delineate_reaches(\n",
    "    dataset, aligned_flowlines, wbt, params['num_points'], params['spacing'], params['minsize'], params['window']\n",
    ")"
   ]
  },
  {
   "cell_type": "code",
   "execution_count": 17,
   "id": "7e0b5ad3-d322-4b47-aabe-e1e55f93abde",
   "metadata": {},
   "outputs": [],
   "source": [
    "flowlines = smooth_flowlines(flowlines_reaches)"
   ]
  },
  {
   "cell_type": "code",
   "execution_count": 18,
   "id": "8b85cf9c-9843-4b6e-8bd4-6693e49f2335",
   "metadata": {
    "scrolled": true
   },
   "outputs": [
    {
     "ename": "TypeError",
     "evalue": "preprocess_profiles() missing 1 required positional argument: 'min_peak_prominence'",
     "output_type": "error",
     "traceback": [
      "\u001b[0;31m---------------------------------------------------------------------------\u001b[0m",
      "\u001b[0;31mTypeError\u001b[0m                                 Traceback (most recent call last)",
      "Cell \u001b[0;32mIn[18], line 1\u001b[0m\n\u001b[0;32m----> 1\u001b[0m profiles \u001b[38;5;241m=\u001b[39m \u001b[43mcompute_profiles\u001b[49m\u001b[43m(\u001b[49m\u001b[43mflowlines\u001b[49m\u001b[43m,\u001b[49m\u001b[43m \u001b[49m\u001b[43mdataset\u001b[49m\u001b[43m,\u001b[49m\u001b[43m \u001b[49m\u001b[43mparams\u001b[49m\u001b[43m[\u001b[49m\u001b[38;5;124;43m'\u001b[39;49m\u001b[38;5;124;43mline_spacing\u001b[39;49m\u001b[38;5;124;43m'\u001b[39;49m\u001b[43m]\u001b[49m\u001b[43m,\u001b[49m\u001b[43m \u001b[49m\u001b[43mparams\u001b[49m\u001b[43m[\u001b[49m\u001b[38;5;124;43m'\u001b[39;49m\u001b[38;5;124;43mline_width\u001b[39;49m\u001b[38;5;124;43m'\u001b[39;49m\u001b[43m]\u001b[49m\u001b[43m,\u001b[49m\u001b[43m \u001b[49m\n\u001b[1;32m      2\u001b[0m \u001b[43m                            \u001b[49m\u001b[43mparams\u001b[49m\u001b[43m[\u001b[49m\u001b[38;5;124;43m'\u001b[39;49m\u001b[38;5;124;43mpoint_spacing\u001b[39;49m\u001b[38;5;124;43m'\u001b[39;49m\u001b[43m]\u001b[49m\u001b[43m,\u001b[49m\u001b[43m \u001b[49m\u001b[43mdataset\u001b[49m\u001b[43m[\u001b[49m\u001b[38;5;124;43m'\u001b[39;49m\u001b[38;5;124;43msubbasin\u001b[39;49m\u001b[38;5;124;43m'\u001b[39;49m\u001b[43m]\u001b[49m\u001b[43m,\u001b[49m\u001b[43m \u001b[49m\u001b[43mparams\u001b[49m\u001b[43m[\u001b[49m\u001b[38;5;124;43m'\u001b[39;49m\u001b[38;5;124;43mmin_hand_jump\u001b[39;49m\u001b[38;5;124;43m'\u001b[39;49m\u001b[43m]\u001b[49m\u001b[43m,\u001b[49m\u001b[43m \u001b[49m\u001b[43mparams\u001b[49m\u001b[43m[\u001b[49m\u001b[38;5;124;43m'\u001b[39;49m\u001b[38;5;124;43mratio\u001b[39;49m\u001b[38;5;124;43m'\u001b[39;49m\u001b[43m]\u001b[49m\u001b[43m,\u001b[49m\u001b[43m \u001b[49m\u001b[43mparams\u001b[49m\u001b[43m[\u001b[49m\u001b[38;5;124;43m'\u001b[39;49m\u001b[38;5;124;43mmin_distance\u001b[39;49m\u001b[38;5;124;43m'\u001b[39;49m\u001b[43m]\u001b[49m\u001b[43m)\u001b[49m\n",
      "File \u001b[0;32m~/programs/pasternack/1m-valleyfloor-tests/slopes/__main__.py:88\u001b[0m, in \u001b[0;36mcompute_profiles\u001b[0;34m(flowlines, dataset, line_spacing, line_width, point_spacing, subbasins, min_hand_jump, ratio, min_distance)\u001b[0m\n\u001b[1;32m     84\u001b[0m xsections \u001b[38;5;241m=\u001b[39m network_xsections(\n\u001b[1;32m     85\u001b[0m     flowlines, line_spacing, line_width, point_spacing, subbasins\n\u001b[1;32m     86\u001b[0m )\n\u001b[1;32m     87\u001b[0m profiles \u001b[38;5;241m=\u001b[39m observe_values(xsections, dataset)\n\u001b[0;32m---> 88\u001b[0m processed \u001b[38;5;241m=\u001b[39m \u001b[43mpreprocess_profiles\u001b[49m\u001b[43m(\u001b[49m\u001b[43mprofiles\u001b[49m\u001b[43m,\u001b[49m\u001b[43m \u001b[49m\u001b[43mmin_hand_jump\u001b[49m\u001b[43m,\u001b[49m\u001b[43m \u001b[49m\u001b[43mratio\u001b[49m\u001b[43m,\u001b[49m\u001b[43m \u001b[49m\u001b[43mmin_distance\u001b[49m\u001b[43m)\u001b[49m\n\u001b[1;32m     89\u001b[0m \u001b[38;5;28;01mreturn\u001b[39;00m processed\n",
      "\u001b[0;31mTypeError\u001b[0m: preprocess_profiles() missing 1 required positional argument: 'min_peak_prominence'"
     ]
    }
   ],
   "source": [
    "profiles = compute_profiles(flowlines, dataset, params['line_spacing'], params['line_width'], \n",
    "                            params['point_spacing'], dataset['subbasin'], params['min_hand_jump'], params['ratio'], params['min_distance'])"
   ]
  },
  {
   "cell_type": "code",
   "execution_count": null,
   "id": "3c061cb3-6ab7-4a7a-86fa-ebb1897b5a09",
   "metadata": {},
   "outputs": [],
   "source": []
  }
 ],
 "metadata": {
  "kernelspec": {
   "display_name": "1m",
   "language": "python",
   "name": "1m"
  },
  "language_info": {
   "codemirror_mode": {
    "name": "ipython",
    "version": 3
   },
   "file_extension": ".py",
   "mimetype": "text/x-python",
   "name": "python",
   "nbconvert_exporter": "python",
   "pygments_lexer": "ipython3",
   "version": "3.10.9"
  }
 },
 "nbformat": 4,
 "nbformat_minor": 5
}
