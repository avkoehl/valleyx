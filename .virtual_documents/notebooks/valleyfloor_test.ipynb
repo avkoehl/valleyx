import rioxarray as rxr
import geopandas as gpd
import matplotlib.pyplot as plt
from loguru import logger
import numpy as np

from valleyfloor.process_topography import process_topography
from valleyfloor.delineate_reaches import delineate_reaches
from valleyfloor.utils import setup_wbt

logger.enable("valleyfloor")


wbt = setup_wbt("~/opt/WBT/", "../working_dir")

dem = rxr.open_rasterio("../data/input/dem.tif", masked=True).squeeze()
flowlines = gpd.read_file("../data/input/flowlines.shp")


dataset, aligned_flowlines = process_topography(dem, flowlines, wbt)


from slopes.subbasins import label_subbasins
from slopes.hillslopes import label_hillslopes


subbasins = label_subbasins(dataset['flow_dir'], dataset['flow_acc'], dataset['flowpaths'], wbt)


hillslopes = label_hillslopes(dataset['flowpaths'], dataset['flow_dir'], subbasins, wbt)


# get cross sections now
aligned_flowlines


stream_ID = 1


flowline = aligned_flowlines.loc[aligned_flowlines['Stream_ID'] == stream_ID, 'geometry'].iloc[0]


from slopes.network_xsections import *


xs = network_xsections(aligned_flowlines, dem, 10, 40, 3, subbasins=subbasins)





stream_xs= xs.loc[xs['streamID'] == 1]
stream_xs


sample = stream_xs.loc[stream_xs['cross_section_id'] == 5].sort_values('alpha')


plt.plot(sample['alpha'], sample['value'])


from slopes.utils import finite_unique



