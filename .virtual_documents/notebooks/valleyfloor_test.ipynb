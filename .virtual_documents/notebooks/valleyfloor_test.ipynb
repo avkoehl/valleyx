import rioxarray as rxr
import geopandas as gpd
import matplotlib.pyplot as plt
from loguru import logger
import numpy as np

from valleyfloor.process_topography import process_topography
from valleyfloor.utils import setup_wbt

logger.enable("valleyfloor")


wbt = setup_wbt("~/opt/WBT/", "../working_dir")

dem = rxr.open_rasterio("../data/input/dem.tif", masked=True).squeeze()
flowlines = gpd.read_file("../data/input/flowlines.shp")


dataset, aligned_flowlines = process_topography(dem, flowlines, wbt)
aligned_flowlines = gpd.GeoSeries(aligned_flowlines['geometry'].values, index=aligned_flowlines['Stream_ID'])


from slopes.subbasins import label_subbasins
from slopes.hillslopes import label_hillslopes


subbasins = label_subbasins(dataset['flow_dir'], dataset['flow_acc'], dataset['flowpaths'], wbt)


hillslopes = label_hillslopes(dataset['flowpaths'], dataset['flow_dir'], subbasins, wbt)


dataset['hillslope'] = hillslopes
dataset['subbasins'] = subbasins


from slopes.network_xsections import network_xsections, observe_values


xs = network_xsections(aligned_flowlines, 10, 40, 2, subbasins=subbasins)


xs = observe_values(xs, dataset[['conditioned_dem', 'hand', 'slope', 'curvature', 'hillslope', 'flowpaths']])


xs


stream_xs = xs.loc[xs['streamID'] == 6]
sample = stream_xs.loc[stream_xs['xsID'] == 9].sort_values('alpha')
mid = sample.loc[np.isfinite(sample['flowpaths']), 'alpha']


fig, axes = plt.subplots(3)
axes[0].plot(sample['alpha'], sample['conditioned_dem'])
axes[1].plot(sample['alpha'], sample['slope'])
axes[2].plot(sample['alpha'], sample['curvature'])


from slopes.segment_profile import *


labels, bps = mean_shift(sample['slope'].values)


plot_segments(sample['alpha'], sample['conditioned_dem'], labels, bps)


labels, bps = elevation_simplification(sample['conditioned_dem'], sample['alpha'], epsilon=0.5)
plot_segments(sample['alpha'], sample['conditioned_dem'], labels, bps)


labels, bps = profile_curvature_peaks(sample['curvature'].values)
plot_segments(sample['alpha'], sample['conditioned_dem'], labels, bps)



