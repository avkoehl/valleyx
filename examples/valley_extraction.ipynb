{
 "cells": [
  {
   "cell_type": "markdown",
   "id": "437050fe-e192-4bfe-9bc7-3550f88d2d09",
   "metadata": {},
   "source": [
    "# Valley Extraction Tutorial\n",
    "## Step-by-Step Walktrhough and Complete Workflow"
   ]
  },
  {
   "cell_type": "markdown",
   "id": "4f170d29-3fd7-4771-8052-799fdb24560f",
   "metadata": {},
   "source": [
    "# 1. Setup and Data Loading"
   ]
  },
  {
   "cell_type": "markdown",
   "id": "7a3f21dd-bb2a-44f6-b985-7a1b448579dc",
   "metadata": {},
   "source": [
    "### Imports"
   ]
  },
  {
   "cell_type": "markdown",
   "id": "901b5f71-89f0-44ff-a775-5675ddfeb9bd",
   "metadata": {},
   "source": [
    "### Data loading"
   ]
  },
  {
   "cell_type": "markdown",
   "id": "07c9f7ad-3290-46e5-8d7f-d13b30fd3181",
   "metadata": {},
   "source": [
    "### Parameters"
   ]
  },
  {
   "cell_type": "markdown",
   "id": "36b32a68-2ca0-42ee-b159-33a1f0fcfe73",
   "metadata": {
    "jp-MarkdownHeadingCollapsed": true
   },
   "source": [
    "# 2. Individual Steps"
   ]
  },
  {
   "cell_type": "markdown",
   "id": "cbd0614e-89ff-497f-b292-4040f6f6a0cb",
   "metadata": {},
   "source": [
    "## Flow Analysis"
   ]
  },
  {
   "cell_type": "markdown",
   "id": "46bf1afa-03a2-4629-b260-7245604bba6c",
   "metadata": {},
   "source": [
    "## Reach Delineation"
   ]
  },
  {
   "cell_type": "markdown",
   "id": "6105030c-4a7f-48dd-8143-425238389415",
   "metadata": {},
   "source": [
    "## Valley Edge Detection"
   ]
  },
  {
   "cell_type": "markdown",
   "id": "219ad019-d416-4ef8-86a6-0f151ee60c9c",
   "metadata": {},
   "source": [
    "## Connected Flat Areas"
   ]
  },
  {
   "cell_type": "markdown",
   "id": "3d954471-3529-475c-a978-6feb0458f1f5",
   "metadata": {},
   "source": [
    "# 3. Complete Workflow Using Main Function"
   ]
  },
  {
   "cell_type": "code",
   "execution_count": null,
   "id": "a1f2a65b-e2ea-4ce8-8898-550b71a21018",
   "metadata": {},
   "outputs": [],
   "source": []
  }
 ],
 "metadata": {
  "kernelspec": {
   "display_name": "valleys",
   "language": "python",
   "name": "valleys"
  },
  "language_info": {
   "codemirror_mode": {
    "name": "ipython",
    "version": 3
   },
   "file_extension": ".py",
   "mimetype": "text/x-python",
   "name": "python",
   "nbconvert_exporter": "python",
   "pygments_lexer": "ipython3",
   "version": "3.10.8"
  }
 },
 "nbformat": 4,
 "nbformat_minor": 5
}
